{
 "cells": [
  {
   "cell_type": "markdown",
   "metadata": {},
   "source": [
    "# Proyecto 8: Análisis de Negocio"
   ]
  },
  {
   "cell_type": "markdown",
   "metadata": {},
   "source": [
    "# Paso 1"
   ]
  },
  {
   "cell_type": "markdown",
   "metadata": {},
   "source": [
    "<div class=\"alert alert-block alert-warning\">\n",
    "<b>Comentario del revisor (1ra Iteracion)</b> <a class=“tocSkip”></a>\n",
    "\n",
    "Para que tu proyecto tenga mejor orden y claridad te recomiendo siempre incluir un título y un breve resúmen de lo que tratará el proyecto para que quien decida continuar tu trabajo pueda entender el objetivo del mismo\n",
    "</div>"
   ]
  },
  {
   "cell_type": "markdown",
   "metadata": {},
   "source": [
    "<div class=\"alert alert-block alert-info\">\n",
    "<b>Respuesta del estudiante</b> <a class=“tocSkip”></a>\n",
    "\n",
    "Añadi el titulo en la parte superior, muchas gracias!\n",
    "</div>"
   ]
  },
  {
   "cell_type": "code",
   "execution_count": 1,
   "metadata": {},
   "outputs": [],
   "source": [
    "import pandas as pd\n",
    "import matplotlib.pyplot as plt\n",
    "import seaborn as sns\n",
    "import numpy as np"
   ]
  },
  {
   "cell_type": "code",
   "execution_count": 2,
   "metadata": {},
   "outputs": [],
   "source": [
    "visit_log_us = pd.read_csv('/datasets/visits_log_us.csv')\n",
    "orders_log_us = pd.read_csv('/datasets/orders_log_us.csv')\n",
    "costs_us = pd.read_csv('/datasets/costs_us.csv')"
   ]
  },
  {
   "cell_type": "code",
   "execution_count": 3,
   "metadata": {},
   "outputs": [
    {
     "name": "stdout",
     "output_type": "stream",
     "text": [
      "<class 'pandas.core.frame.DataFrame'>\n",
      "RangeIndex: 359400 entries, 0 to 359399\n",
      "Data columns (total 5 columns):\n",
      " #   Column     Non-Null Count   Dtype \n",
      "---  ------     --------------   ----- \n",
      " 0   Device     359400 non-null  object\n",
      " 1   End Ts     359400 non-null  object\n",
      " 2   Source Id  359400 non-null  int64 \n",
      " 3   Start Ts   359400 non-null  object\n",
      " 4   Uid        359400 non-null  uint64\n",
      "dtypes: int64(1), object(3), uint64(1)\n",
      "memory usage: 13.7+ MB\n",
      "\n",
      "<class 'pandas.core.frame.DataFrame'>\n",
      "RangeIndex: 50415 entries, 0 to 50414\n",
      "Data columns (total 3 columns):\n",
      " #   Column   Non-Null Count  Dtype  \n",
      "---  ------   --------------  -----  \n",
      " 0   Buy Ts   50415 non-null  object \n",
      " 1   Revenue  50415 non-null  float64\n",
      " 2   Uid      50415 non-null  uint64 \n",
      "dtypes: float64(1), object(1), uint64(1)\n",
      "memory usage: 1.2+ MB\n",
      "\n",
      "<class 'pandas.core.frame.DataFrame'>\n",
      "RangeIndex: 2542 entries, 0 to 2541\n",
      "Data columns (total 3 columns):\n",
      " #   Column     Non-Null Count  Dtype  \n",
      "---  ------     --------------  -----  \n",
      " 0   source_id  2542 non-null   int64  \n",
      " 1   dt         2542 non-null   object \n",
      " 2   costs      2542 non-null   float64\n",
      "dtypes: float64(1), int64(1), object(1)\n",
      "memory usage: 59.7+ KB\n"
     ]
    }
   ],
   "source": [
    "visit_log_us.info()\n",
    "print()\n",
    "orders_log_us.info()\n",
    "print()\n",
    "costs_us.info()"
   ]
  },
  {
   "cell_type": "code",
   "execution_count": 51,
   "metadata": {},
   "outputs": [
    {
     "data": {
      "text/html": [
       "<div>\n",
       "<style scoped>\n",
       "    .dataframe tbody tr th:only-of-type {\n",
       "        vertical-align: middle;\n",
       "    }\n",
       "\n",
       "    .dataframe tbody tr th {\n",
       "        vertical-align: top;\n",
       "    }\n",
       "\n",
       "    .dataframe thead th {\n",
       "        text-align: right;\n",
       "    }\n",
       "</style>\n",
       "<table border=\"1\" class=\"dataframe\">\n",
       "  <thead>\n",
       "    <tr style=\"text-align: right;\">\n",
       "      <th></th>\n",
       "      <th>Source Id</th>\n",
       "      <th>Uid</th>\n",
       "      <th>Session Duration</th>\n",
       "    </tr>\n",
       "  </thead>\n",
       "  <tbody>\n",
       "    <tr>\n",
       "      <th>count</th>\n",
       "      <td>359400.000000</td>\n",
       "      <td>3.594000e+05</td>\n",
       "      <td>359400.000000</td>\n",
       "    </tr>\n",
       "    <tr>\n",
       "      <th>mean</th>\n",
       "      <td>3.750515</td>\n",
       "      <td>9.202557e+18</td>\n",
       "      <td>643.025687</td>\n",
       "    </tr>\n",
       "    <tr>\n",
       "      <th>std</th>\n",
       "      <td>1.917116</td>\n",
       "      <td>5.298433e+18</td>\n",
       "      <td>997.127761</td>\n",
       "    </tr>\n",
       "    <tr>\n",
       "      <th>min</th>\n",
       "      <td>1.000000</td>\n",
       "      <td>1.186350e+13</td>\n",
       "      <td>-2760.000000</td>\n",
       "    </tr>\n",
       "    <tr>\n",
       "      <th>25%</th>\n",
       "      <td>3.000000</td>\n",
       "      <td>4.613407e+18</td>\n",
       "      <td>120.000000</td>\n",
       "    </tr>\n",
       "    <tr>\n",
       "      <th>50%</th>\n",
       "      <td>4.000000</td>\n",
       "      <td>9.227413e+18</td>\n",
       "      <td>300.000000</td>\n",
       "    </tr>\n",
       "    <tr>\n",
       "      <th>75%</th>\n",
       "      <td>5.000000</td>\n",
       "      <td>1.372824e+19</td>\n",
       "      <td>840.000000</td>\n",
       "    </tr>\n",
       "    <tr>\n",
       "      <th>max</th>\n",
       "      <td>10.000000</td>\n",
       "      <td>1.844668e+19</td>\n",
       "      <td>42660.000000</td>\n",
       "    </tr>\n",
       "  </tbody>\n",
       "</table>\n",
       "</div>"
      ],
      "text/plain": [
       "           Source Id           Uid  Session Duration\n",
       "count  359400.000000  3.594000e+05     359400.000000\n",
       "mean        3.750515  9.202557e+18        643.025687\n",
       "std         1.917116  5.298433e+18        997.127761\n",
       "min         1.000000  1.186350e+13      -2760.000000\n",
       "25%         3.000000  4.613407e+18        120.000000\n",
       "50%         4.000000  9.227413e+18        300.000000\n",
       "75%         5.000000  1.372824e+19        840.000000\n",
       "max        10.000000  1.844668e+19      42660.000000"
      ]
     },
     "execution_count": 51,
     "metadata": {},
     "output_type": "execute_result"
    }
   ],
   "source": [
    "visit_log_us.describe()"
   ]
  },
  {
   "cell_type": "code",
   "execution_count": 52,
   "metadata": {},
   "outputs": [
    {
     "data": {
      "text/html": [
       "<div>\n",
       "<style scoped>\n",
       "    .dataframe tbody tr th:only-of-type {\n",
       "        vertical-align: middle;\n",
       "    }\n",
       "\n",
       "    .dataframe tbody tr th {\n",
       "        vertical-align: top;\n",
       "    }\n",
       "\n",
       "    .dataframe thead th {\n",
       "        text-align: right;\n",
       "    }\n",
       "</style>\n",
       "<table border=\"1\" class=\"dataframe\">\n",
       "  <thead>\n",
       "    <tr style=\"text-align: right;\">\n",
       "      <th></th>\n",
       "      <th>Revenue</th>\n",
       "      <th>Uid</th>\n",
       "    </tr>\n",
       "  </thead>\n",
       "  <tbody>\n",
       "    <tr>\n",
       "      <th>count</th>\n",
       "      <td>50415.000000</td>\n",
       "      <td>5.041500e+04</td>\n",
       "    </tr>\n",
       "    <tr>\n",
       "      <th>mean</th>\n",
       "      <td>4.999647</td>\n",
       "      <td>9.098161e+18</td>\n",
       "    </tr>\n",
       "    <tr>\n",
       "      <th>std</th>\n",
       "      <td>21.818359</td>\n",
       "      <td>5.285742e+18</td>\n",
       "    </tr>\n",
       "    <tr>\n",
       "      <th>min</th>\n",
       "      <td>0.000000</td>\n",
       "      <td>3.135781e+14</td>\n",
       "    </tr>\n",
       "    <tr>\n",
       "      <th>25%</th>\n",
       "      <td>1.220000</td>\n",
       "      <td>4.533567e+18</td>\n",
       "    </tr>\n",
       "    <tr>\n",
       "      <th>50%</th>\n",
       "      <td>2.500000</td>\n",
       "      <td>9.102274e+18</td>\n",
       "    </tr>\n",
       "    <tr>\n",
       "      <th>75%</th>\n",
       "      <td>4.890000</td>\n",
       "      <td>1.368290e+19</td>\n",
       "    </tr>\n",
       "    <tr>\n",
       "      <th>max</th>\n",
       "      <td>2633.280000</td>\n",
       "      <td>1.844617e+19</td>\n",
       "    </tr>\n",
       "  </tbody>\n",
       "</table>\n",
       "</div>"
      ],
      "text/plain": [
       "            Revenue           Uid\n",
       "count  50415.000000  5.041500e+04\n",
       "mean       4.999647  9.098161e+18\n",
       "std       21.818359  5.285742e+18\n",
       "min        0.000000  3.135781e+14\n",
       "25%        1.220000  4.533567e+18\n",
       "50%        2.500000  9.102274e+18\n",
       "75%        4.890000  1.368290e+19\n",
       "max     2633.280000  1.844617e+19"
      ]
     },
     "execution_count": 52,
     "metadata": {},
     "output_type": "execute_result"
    }
   ],
   "source": [
    "orders_log_us.describe()"
   ]
  },
  {
   "cell_type": "code",
   "execution_count": 53,
   "metadata": {},
   "outputs": [
    {
     "data": {
      "text/html": [
       "<div>\n",
       "<style scoped>\n",
       "    .dataframe tbody tr th:only-of-type {\n",
       "        vertical-align: middle;\n",
       "    }\n",
       "\n",
       "    .dataframe tbody tr th {\n",
       "        vertical-align: top;\n",
       "    }\n",
       "\n",
       "    .dataframe thead th {\n",
       "        text-align: right;\n",
       "    }\n",
       "</style>\n",
       "<table border=\"1\" class=\"dataframe\">\n",
       "  <thead>\n",
       "    <tr style=\"text-align: right;\">\n",
       "      <th></th>\n",
       "      <th>source_id</th>\n",
       "      <th>costs</th>\n",
       "    </tr>\n",
       "  </thead>\n",
       "  <tbody>\n",
       "    <tr>\n",
       "      <th>count</th>\n",
       "      <td>2542.000000</td>\n",
       "      <td>2542.000000</td>\n",
       "    </tr>\n",
       "    <tr>\n",
       "      <th>mean</th>\n",
       "      <td>4.857199</td>\n",
       "      <td>129.477427</td>\n",
       "    </tr>\n",
       "    <tr>\n",
       "      <th>std</th>\n",
       "      <td>3.181581</td>\n",
       "      <td>156.296628</td>\n",
       "    </tr>\n",
       "    <tr>\n",
       "      <th>min</th>\n",
       "      <td>1.000000</td>\n",
       "      <td>0.540000</td>\n",
       "    </tr>\n",
       "    <tr>\n",
       "      <th>25%</th>\n",
       "      <td>2.000000</td>\n",
       "      <td>21.945000</td>\n",
       "    </tr>\n",
       "    <tr>\n",
       "      <th>50%</th>\n",
       "      <td>4.000000</td>\n",
       "      <td>77.295000</td>\n",
       "    </tr>\n",
       "    <tr>\n",
       "      <th>75%</th>\n",
       "      <td>9.000000</td>\n",
       "      <td>170.065000</td>\n",
       "    </tr>\n",
       "    <tr>\n",
       "      <th>max</th>\n",
       "      <td>10.000000</td>\n",
       "      <td>1788.280000</td>\n",
       "    </tr>\n",
       "  </tbody>\n",
       "</table>\n",
       "</div>"
      ],
      "text/plain": [
       "         source_id        costs\n",
       "count  2542.000000  2542.000000\n",
       "mean      4.857199   129.477427\n",
       "std       3.181581   156.296628\n",
       "min       1.000000     0.540000\n",
       "25%       2.000000    21.945000\n",
       "50%       4.000000    77.295000\n",
       "75%       9.000000   170.065000\n",
       "max      10.000000  1788.280000"
      ]
     },
     "execution_count": 53,
     "metadata": {},
     "output_type": "execute_result"
    }
   ],
   "source": [
    "costs_us.describe()"
   ]
  },
  {
   "cell_type": "code",
   "execution_count": 4,
   "metadata": {},
   "outputs": [],
   "source": [
    "# Convertir las columnas de fecha y hora al tipo de datos datetime\n",
    "visit_log_us['Start Ts'] = pd.to_datetime(visit_log_us['Start Ts'])\n",
    "visit_log_us['End Ts'] = pd.to_datetime(visit_log_us['End Ts'])\n",
    "orders_log_us['Buy Ts'] = pd.to_datetime(orders_log_us['Buy Ts'])\n",
    "costs_us['dt'] = pd.to_datetime(costs_us['dt'])"
   ]
  },
  {
   "cell_type": "code",
   "execution_count": 5,
   "metadata": {},
   "outputs": [
    {
     "data": {
      "text/html": [
       "<div>\n",
       "<style scoped>\n",
       "    .dataframe tbody tr th:only-of-type {\n",
       "        vertical-align: middle;\n",
       "    }\n",
       "\n",
       "    .dataframe tbody tr th {\n",
       "        vertical-align: top;\n",
       "    }\n",
       "\n",
       "    .dataframe thead th {\n",
       "        text-align: right;\n",
       "    }\n",
       "</style>\n",
       "<table border=\"1\" class=\"dataframe\">\n",
       "  <thead>\n",
       "    <tr style=\"text-align: right;\">\n",
       "      <th></th>\n",
       "      <th>Device</th>\n",
       "      <th>End Ts</th>\n",
       "      <th>Source Id</th>\n",
       "      <th>Start Ts</th>\n",
       "      <th>Uid</th>\n",
       "    </tr>\n",
       "  </thead>\n",
       "  <tbody>\n",
       "    <tr>\n",
       "      <th>0</th>\n",
       "      <td>touch</td>\n",
       "      <td>2017-12-20 17:38:00</td>\n",
       "      <td>4</td>\n",
       "      <td>2017-12-20 17:20:00</td>\n",
       "      <td>16879256277535980062</td>\n",
       "    </tr>\n",
       "    <tr>\n",
       "      <th>1</th>\n",
       "      <td>desktop</td>\n",
       "      <td>2018-02-19 17:21:00</td>\n",
       "      <td>2</td>\n",
       "      <td>2018-02-19 16:53:00</td>\n",
       "      <td>104060357244891740</td>\n",
       "    </tr>\n",
       "    <tr>\n",
       "      <th>2</th>\n",
       "      <td>touch</td>\n",
       "      <td>2017-07-01 01:54:00</td>\n",
       "      <td>5</td>\n",
       "      <td>2017-07-01 01:54:00</td>\n",
       "      <td>7459035603376831527</td>\n",
       "    </tr>\n",
       "    <tr>\n",
       "      <th>3</th>\n",
       "      <td>desktop</td>\n",
       "      <td>2018-05-20 11:23:00</td>\n",
       "      <td>9</td>\n",
       "      <td>2018-05-20 10:59:00</td>\n",
       "      <td>16174680259334210214</td>\n",
       "    </tr>\n",
       "    <tr>\n",
       "      <th>4</th>\n",
       "      <td>desktop</td>\n",
       "      <td>2017-12-27 14:06:00</td>\n",
       "      <td>3</td>\n",
       "      <td>2017-12-27 14:06:00</td>\n",
       "      <td>9969694820036681168</td>\n",
       "    </tr>\n",
       "  </tbody>\n",
       "</table>\n",
       "</div>"
      ],
      "text/plain": [
       "    Device              End Ts  Source Id            Start Ts  \\\n",
       "0    touch 2017-12-20 17:38:00          4 2017-12-20 17:20:00   \n",
       "1  desktop 2018-02-19 17:21:00          2 2018-02-19 16:53:00   \n",
       "2    touch 2017-07-01 01:54:00          5 2017-07-01 01:54:00   \n",
       "3  desktop 2018-05-20 11:23:00          9 2018-05-20 10:59:00   \n",
       "4  desktop 2017-12-27 14:06:00          3 2017-12-27 14:06:00   \n",
       "\n",
       "                    Uid  \n",
       "0  16879256277535980062  \n",
       "1    104060357244891740  \n",
       "2   7459035603376831527  \n",
       "3  16174680259334210214  \n",
       "4   9969694820036681168  "
      ]
     },
     "execution_count": 5,
     "metadata": {},
     "output_type": "execute_result"
    }
   ],
   "source": [
    "visit_log_us.head(5)"
   ]
  },
  {
   "cell_type": "code",
   "execution_count": 6,
   "metadata": {},
   "outputs": [
    {
     "data": {
      "text/html": [
       "<div>\n",
       "<style scoped>\n",
       "    .dataframe tbody tr th:only-of-type {\n",
       "        vertical-align: middle;\n",
       "    }\n",
       "\n",
       "    .dataframe tbody tr th {\n",
       "        vertical-align: top;\n",
       "    }\n",
       "\n",
       "    .dataframe thead th {\n",
       "        text-align: right;\n",
       "    }\n",
       "</style>\n",
       "<table border=\"1\" class=\"dataframe\">\n",
       "  <thead>\n",
       "    <tr style=\"text-align: right;\">\n",
       "      <th></th>\n",
       "      <th>Buy Ts</th>\n",
       "      <th>Revenue</th>\n",
       "      <th>Uid</th>\n",
       "    </tr>\n",
       "  </thead>\n",
       "  <tbody>\n",
       "    <tr>\n",
       "      <th>0</th>\n",
       "      <td>2017-06-01 00:10:00</td>\n",
       "      <td>17.00</td>\n",
       "      <td>10329302124590727494</td>\n",
       "    </tr>\n",
       "    <tr>\n",
       "      <th>1</th>\n",
       "      <td>2017-06-01 00:25:00</td>\n",
       "      <td>0.55</td>\n",
       "      <td>11627257723692907447</td>\n",
       "    </tr>\n",
       "    <tr>\n",
       "      <th>2</th>\n",
       "      <td>2017-06-01 00:27:00</td>\n",
       "      <td>0.37</td>\n",
       "      <td>17903680561304213844</td>\n",
       "    </tr>\n",
       "    <tr>\n",
       "      <th>3</th>\n",
       "      <td>2017-06-01 00:29:00</td>\n",
       "      <td>0.55</td>\n",
       "      <td>16109239769442553005</td>\n",
       "    </tr>\n",
       "    <tr>\n",
       "      <th>4</th>\n",
       "      <td>2017-06-01 07:58:00</td>\n",
       "      <td>0.37</td>\n",
       "      <td>14200605875248379450</td>\n",
       "    </tr>\n",
       "  </tbody>\n",
       "</table>\n",
       "</div>"
      ],
      "text/plain": [
       "               Buy Ts  Revenue                   Uid\n",
       "0 2017-06-01 00:10:00    17.00  10329302124590727494\n",
       "1 2017-06-01 00:25:00     0.55  11627257723692907447\n",
       "2 2017-06-01 00:27:00     0.37  17903680561304213844\n",
       "3 2017-06-01 00:29:00     0.55  16109239769442553005\n",
       "4 2017-06-01 07:58:00     0.37  14200605875248379450"
      ]
     },
     "execution_count": 6,
     "metadata": {},
     "output_type": "execute_result"
    }
   ],
   "source": [
    "orders_log_us.head(5)"
   ]
  },
  {
   "cell_type": "code",
   "execution_count": 7,
   "metadata": {},
   "outputs": [
    {
     "data": {
      "text/html": [
       "<div>\n",
       "<style scoped>\n",
       "    .dataframe tbody tr th:only-of-type {\n",
       "        vertical-align: middle;\n",
       "    }\n",
       "\n",
       "    .dataframe tbody tr th {\n",
       "        vertical-align: top;\n",
       "    }\n",
       "\n",
       "    .dataframe thead th {\n",
       "        text-align: right;\n",
       "    }\n",
       "</style>\n",
       "<table border=\"1\" class=\"dataframe\">\n",
       "  <thead>\n",
       "    <tr style=\"text-align: right;\">\n",
       "      <th></th>\n",
       "      <th>source_id</th>\n",
       "      <th>dt</th>\n",
       "      <th>costs</th>\n",
       "    </tr>\n",
       "  </thead>\n",
       "  <tbody>\n",
       "    <tr>\n",
       "      <th>0</th>\n",
       "      <td>1</td>\n",
       "      <td>2017-06-01</td>\n",
       "      <td>75.20</td>\n",
       "    </tr>\n",
       "    <tr>\n",
       "      <th>1</th>\n",
       "      <td>1</td>\n",
       "      <td>2017-06-02</td>\n",
       "      <td>62.25</td>\n",
       "    </tr>\n",
       "    <tr>\n",
       "      <th>2</th>\n",
       "      <td>1</td>\n",
       "      <td>2017-06-03</td>\n",
       "      <td>36.53</td>\n",
       "    </tr>\n",
       "    <tr>\n",
       "      <th>3</th>\n",
       "      <td>1</td>\n",
       "      <td>2017-06-04</td>\n",
       "      <td>55.00</td>\n",
       "    </tr>\n",
       "    <tr>\n",
       "      <th>4</th>\n",
       "      <td>1</td>\n",
       "      <td>2017-06-05</td>\n",
       "      <td>57.08</td>\n",
       "    </tr>\n",
       "  </tbody>\n",
       "</table>\n",
       "</div>"
      ],
      "text/plain": [
       "   source_id         dt  costs\n",
       "0          1 2017-06-01  75.20\n",
       "1          1 2017-06-02  62.25\n",
       "2          1 2017-06-03  36.53\n",
       "3          1 2017-06-04  55.00\n",
       "4          1 2017-06-05  57.08"
      ]
     },
     "execution_count": 7,
     "metadata": {},
     "output_type": "execute_result"
    }
   ],
   "source": [
    "costs_us.head(5)"
   ]
  },
  {
   "cell_type": "markdown",
   "metadata": {},
   "source": [
    "# Paso 2"
   ]
  },
  {
   "cell_type": "markdown",
   "metadata": {},
   "source": [
    "# Visitas"
   ]
  },
  {
   "cell_type": "markdown",
   "metadata": {},
   "source": [
    "¿Cuántas personas lo usan cada día, semana y mes?"
   ]
  },
  {
   "cell_type": "code",
   "execution_count": 8,
   "metadata": {},
   "outputs": [
    {
     "name": "stdout",
     "output_type": "stream",
     "text": [
      "Start Ts\n",
      "2017-06-01     605\n",
      "2017-06-02     608\n",
      "2017-06-03     445\n",
      "2017-06-04     476\n",
      "2017-06-05     820\n",
      "              ... \n",
      "2018-05-27     620\n",
      "2018-05-28    1039\n",
      "2018-05-29     948\n",
      "2018-05-30    1289\n",
      "2018-05-31    1997\n",
      "Name: Uid, Length: 364, dtype: int64\n"
     ]
    }
   ],
   "source": [
    "# Cantidad de usuarios únicos por día\n",
    "daily_users = visit_log_us.groupby(visit_log_us['Start Ts'].dt.date)['Uid'].nunique()\n",
    "print(daily_users)"
   ]
  },
  {
   "cell_type": "code",
   "execution_count": 9,
   "metadata": {},
   "outputs": [
    {
     "data": {
      "image/png": "[encoded data removed]",
      "text/plain": [
       "<Figure size 1200x600 with 1 Axes>"
      ]
     },
     "metadata": {},
     "output_type": "display_data"
    }
   ],
   "source": [
    "#Graficar datos\n",
    "plt.figure(figsize=(12, 6))\n",
    "plt.plot(daily_users.index, daily_users.values, marker='o', linestyle='-')\n",
    "plt.title('Número de usuarios únicos por día')\n",
    "plt.xlabel('Fecha')\n",
    "plt.ylabel('Número de usuarios únicos')\n",
    "plt.grid(True)\n",
    "plt.show()"
   ]
  },
  {
   "cell_type": "code",
   "execution_count": 10,
   "metadata": {},
   "outputs": [
    {
     "name": "stdout",
     "output_type": "stream",
     "text": [
      "Start Ts\n",
      "2017-05-29/2017-06-04     2021\n",
      "2017-06-05/2017-06-11     4129\n",
      "2017-06-12/2017-06-18     2812\n",
      "2017-06-19/2017-06-25     2878\n",
      "2017-06-26/2017-07-02     3064\n",
      "2017-07-03/2017-07-09     3294\n",
      "2017-07-10/2017-07-16     4355\n",
      "2017-07-17/2017-07-23     3841\n",
      "2017-07-24/2017-07-30     2655\n",
      "2017-07-31/2017-08-06     2364\n",
      "2017-08-07/2017-08-13     2444\n",
      "2017-08-14/2017-08-20     2746\n",
      "2017-08-21/2017-08-27     3116\n",
      "2017-08-28/2017-09-03     3694\n",
      "2017-09-04/2017-09-10     4412\n",
      "2017-09-11/2017-09-17     4319\n",
      "2017-09-18/2017-09-24     4874\n",
      "2017-09-25/2017-10-01     6241\n",
      "2017-10-02/2017-10-08     7612\n",
      "2017-10-09/2017-10-15     7074\n",
      "2017-10-16/2017-10-22     7148\n",
      "2017-10-23/2017-10-29     7401\n",
      "2017-10-30/2017-11-05     7480\n",
      "2017-11-06/2017-11-12     7179\n",
      "2017-11-13/2017-11-19     8117\n",
      "2017-11-20/2017-11-26    10586\n",
      "2017-11-27/2017-12-03     8166\n",
      "2017-12-04/2017-12-10     8407\n",
      "2017-12-11/2017-12-17     8214\n",
      "2017-12-18/2017-12-24     7172\n",
      "2017-12-25/2017-12-31     7774\n",
      "2018-01-01/2018-01-07     6918\n",
      "2018-01-08/2018-01-14     6703\n",
      "2018-01-15/2018-01-21     6972\n",
      "2018-01-22/2018-01-28     7060\n",
      "2018-01-29/2018-02-04     8111\n",
      "2018-02-05/2018-02-11     7908\n",
      "2018-02-12/2018-02-18     7759\n",
      "2018-02-19/2018-02-25     7518\n",
      "2018-02-26/2018-03-04     7395\n",
      "2018-03-05/2018-03-11     6844\n",
      "2018-03-12/2018-03-18     6225\n",
      "2018-03-19/2018-03-25     7898\n",
      "2018-03-26/2018-04-01     4940\n",
      "2018-04-02/2018-04-08     5383\n",
      "2018-04-09/2018-04-15     5494\n",
      "2018-04-16/2018-04-22     5740\n",
      "2018-04-23/2018-04-29     5503\n",
      "2018-04-30/2018-05-06     3916\n",
      "2018-05-07/2018-05-13     4128\n",
      "2018-05-14/2018-05-20     5070\n",
      "2018-05-21/2018-05-27     4995\n",
      "2018-05-28/2018-06-03     4892\n",
      "Freq: W-SUN, Name: Uid, dtype: int64\n"
     ]
    }
   ],
   "source": [
    "# Cantidad de usuarios únicos por semana\n",
    "weekly_users = visit_log_us.groupby(visit_log_us['Start Ts'].dt.to_period('W'))['Uid'].nunique()\n",
    "print(weekly_users)"
   ]
  },
  {
   "cell_type": "code",
   "execution_count": 11,
   "metadata": {},
   "outputs": [],
   "source": [
    "# Convertir el índice a datetime para su uso en el gráfico\n",
    "weekly_users.index = weekly_users.index.to_timestamp()"
   ]
  },
  {
   "cell_type": "code",
   "execution_count": 12,
   "metadata": {},
   "outputs": [
    {
     "data": {
      "image/png": "[encoded data removed]",
      "text/plain": [
       "<Figure size 1200x600 with 1 Axes>"
      ]
     },
     "metadata": {},
     "output_type": "display_data"
    }
   ],
   "source": [
    "# Crear el gráfico\n",
    "plt.figure(figsize=(12, 6))\n",
    "plt.plot(weekly_users.index, weekly_users.values, marker='o', linestyle='-')\n",
    "plt.title('Número de usuarios únicos por semana')\n",
    "plt.xlabel('Fecha')\n",
    "plt.ylabel('Número de usuarios únicos')\n",
    "plt.grid(True)\n",
    "plt.show()"
   ]
  },
  {
   "cell_type": "code",
   "execution_count": 13,
   "metadata": {},
   "outputs": [
    {
     "name": "stdout",
     "output_type": "stream",
     "text": [
      "Start Ts\n",
      "2017-06    13259\n",
      "2017-07    14183\n",
      "2017-08    11631\n",
      "2017-09    18975\n",
      "2017-10    29692\n",
      "2017-11    32797\n",
      "2017-12    31557\n",
      "2018-01    28716\n",
      "2018-02    28749\n",
      "2018-03    27473\n",
      "2018-04    21008\n",
      "2018-05    20701\n",
      "Freq: M, Name: Uid, dtype: int64\n"
     ]
    }
   ],
   "source": [
    "# Cantidad de usuarios únicos por mes\n",
    "monthly_users = visit_log_us.groupby(visit_log_us['Start Ts'].dt.to_period('M'))['Uid'].nunique()\n",
    "print(monthly_users)"
   ]
  },
  {
   "cell_type": "code",
   "execution_count": 14,
   "metadata": {},
   "outputs": [],
   "source": [
    "# Convertir el índice a datetime para su uso en el gráfico\n",
    "monthly_users.index = monthly_users.index.to_timestamp()"
   ]
  },
  {
   "cell_type": "code",
   "execution_count": 15,
   "metadata": {},
   "outputs": [
    {
     "data": {
      "image/png": "[encoded data removed]",
      "text/plain": [
       "<Figure size 1200x600 with 1 Axes>"
      ]
     },
     "metadata": {},
     "output_type": "display_data"
    }
   ],
   "source": [
    "# Crear el gráfico\n",
    "plt.figure(figsize=(12, 6))\n",
    "plt.plot(monthly_users.index, monthly_users.values, marker='o', linestyle='-')\n",
    "plt.title('Número de usuarios únicos por mes')\n",
    "plt.xlabel('Fecha')\n",
    "plt.ylabel('Número de usuarios únicos')\n",
    "plt.grid(True)\n",
    "plt.show()"
   ]
  },
  {
   "cell_type": "markdown",
   "metadata": {},
   "source": [
    "Considerando los datos proporcionados, podemos ver un aumento considerable de la cantidad de usuarios unicos a partir del mes de agosto 2017, alcanzando su punto mas alto en noviembre de 2017. Considerando las fechas podemos inferir que el alza de usuarios unicos se debe a la tendencia de comprar mas en esos meses debido a las fechas festivas desde octubre hasta febrero. "
   ]
  },
  {
   "cell_type": "markdown",
   "metadata": {},
   "source": [
    "¿Cuántas sesiones hay por día? (Un/a usuario/a puede tener más de una sesión)"
   ]
  },
  {
   "cell_type": "code",
   "execution_count": 16,
   "metadata": {},
   "outputs": [
    {
     "name": "stdout",
     "output_type": "stream",
     "text": [
      "Start Ts\n",
      "2017-06-01     664\n",
      "2017-06-02     658\n",
      "2017-06-03     477\n",
      "2017-06-04     510\n",
      "2017-06-05     893\n",
      "              ... \n",
      "2018-05-27     672\n",
      "2018-05-28    1156\n",
      "2018-05-29    1035\n",
      "2018-05-30    1410\n",
      "2018-05-31    2256\n",
      "Name: Uid, Length: 364, dtype: int64\n"
     ]
    }
   ],
   "source": [
    "# Cantidad de sesiones por día\n",
    "daily_sessions = visit_log_us.groupby(visit_log_us['Start Ts'].dt.date)['Uid'].count()\n",
    "print(daily_sessions)"
   ]
  },
  {
   "cell_type": "markdown",
   "metadata": {},
   "source": [
    "¿Cuál es la duración de cada sesión?"
   ]
  },
  {
   "cell_type": "code",
   "execution_count": 17,
   "metadata": {},
   "outputs": [],
   "source": [
    "# Duración de cada sesión (en segundos)\n",
    "visit_log_us['Session Duration'] = (visit_log_us['End Ts'] - visit_log_us['Start Ts']).dt.total_seconds()"
   ]
  },
  {
   "cell_type": "code",
   "execution_count": 18,
   "metadata": {},
   "outputs": [
    {
     "name": "stdout",
     "output_type": "stream",
     "text": [
      "Start Ts\n",
      "2017-06-01    666.320783\n",
      "2017-06-02    619.840426\n",
      "2017-06-03    606.958071\n",
      "2017-06-04    554.309804\n",
      "2017-06-05    624.450168\n",
      "                 ...    \n",
      "2018-05-27    556.964286\n",
      "2018-05-28    632.819204\n",
      "2018-05-29    629.428019\n",
      "2018-05-30    640.707801\n",
      "2018-05-31    739.752660\n",
      "Name: Session Duration, Length: 364, dtype: float64\n"
     ]
    }
   ],
   "source": [
    "# Gráfico de duración promedio de sesión por día\n",
    "avg_session_duration = visit_log_us.groupby(visit_log_us['Start Ts'].dt.date)['Session Duration'].mean()\n",
    "print(avg_session_duration)"
   ]
  },
  {
   "cell_type": "code",
   "execution_count": 19,
   "metadata": {
    "scrolled": false
   },
   "outputs": [
    {
     "data": {
      "image/png": "[encoded data removed]",
      "text/plain": [
       "<Figure size 1200x600 with 1 Axes>"
      ]
     },
     "metadata": {},
     "output_type": "display_data"
    }
   ],
   "source": [
    "avg_session_duration.hist(bins=30, figsize=(12, 6))\n",
    "plt.title('Duración promedio de sesión')\n",
    "plt.xlabel('Duración promedio de sesión (segundos)')\n",
    "plt.ylabel('Cantidad de usuarios')\n",
    "plt.show()"
   ]
  },
  {
   "cell_type": "markdown",
   "metadata": {},
   "source": [
    "La grafica anterior nos muestra la duracion promedio de una sesion por cantidad de usuarios. Podemos ver que el promedio de duracion de cada sesion es alrededor de los 600 segundos o 10 minutos, por lo que debemos considerar que ese tiempo es el que usuario dispone a observar, comparar y comprar cosas dentro de la pagina."
   ]
  },
  {
   "cell_type": "markdown",
   "metadata": {},
   "source": [
    "# Ventas"
   ]
  },
  {
   "cell_type": "markdown",
   "metadata": {},
   "source": [
    "¿Cuándo la gente empieza a comprar?"
   ]
  },
  {
   "cell_type": "code",
   "execution_count": 20,
   "metadata": {},
   "outputs": [],
   "source": [
    "# Obtener la fecha de registro más antigua (primera visita) de cada usuario\n",
    "fecha_registro = visit_log_us.groupby('Uid')['Start Ts'].min().reset_index()\n",
    "fecha_registro.columns = ['Uid', 'Fecha Registro']"
   ]
  },
  {
   "cell_type": "code",
   "execution_count": 21,
   "metadata": {},
   "outputs": [],
   "source": [
    "# Obtener la fecha de la primera compra de cada usuario\n",
    "fecha_primera_compra = orders_log_us.groupby('Uid')['Buy Ts'].min().reset_index()\n",
    "fecha_primera_compra.columns = ['Uid', 'Fecha Primera Compra']\n"
   ]
  },
  {
   "cell_type": "code",
   "execution_count": 22,
   "metadata": {},
   "outputs": [],
   "source": [
    "# Combinar los dos DataFrames en base al 'Uid'\n",
    "registro_compra = pd.merge(fecha_registro, fecha_primera_compra, on='Uid', how='inner')"
   ]
  },
  {
   "cell_type": "code",
   "execution_count": 23,
   "metadata": {},
   "outputs": [],
   "source": [
    "# Calcular el tiempo transcurrido entre el registro y la primera compra\n",
    "registro_compra['Tiempo Conversion'] = (registro_compra['Fecha Primera Compra'] - registro_compra['Fecha Registro']).dt.days"
   ]
  },
  {
   "cell_type": "code",
   "execution_count": 24,
   "metadata": {},
   "outputs": [
    {
     "name": "stdout",
     "output_type": "stream",
     "text": [
      "count    36523.000000\n",
      "mean        16.729869\n",
      "std         46.959088\n",
      "min          0.000000\n",
      "25%          0.000000\n",
      "50%          0.000000\n",
      "75%          2.000000\n",
      "max        363.000000\n",
      "Name: Tiempo Conversion, dtype: float64\n"
     ]
    }
   ],
   "source": [
    "# Mostrar algunas estadísticas\n",
    "conversion_stats = registro_compra['Tiempo Conversion'].describe()\n",
    "print(conversion_stats)"
   ]
  },
  {
   "cell_type": "code",
   "execution_count": 25,
   "metadata": {},
   "outputs": [
    {
     "data": {
      "image/png": "[encoded data removed]",
      "text/plain": [
       "<Figure size 1000x600 with 1 Axes>"
      ]
     },
     "metadata": {},
     "output_type": "display_data"
    }
   ],
   "source": [
    "# Graficar la distribución del tiempo de conversión\n",
    "plt.figure(figsize=(10, 6))\n",
    "plt.hist(registro_compra['Tiempo Conversion'].dropna(), bins=30, edgecolor='k', alpha=0.7)\n",
    "plt.title('Distribución del tiempo de conversión (días)')\n",
    "plt.xlabel('Días desde el registro hasta la primera compra')\n",
    "plt.ylabel('Número de usuarios')\n",
    "plt.grid(True)\n",
    "plt.show()"
   ]
  },
  {
   "cell_type": "markdown",
   "metadata": {},
   "source": [
    "Con los datos obtenidos podemos observar que los clientes suelen hacer su primera compra en la pagina durante el primer mes de haberse registrado, teniendo que en promedio los usuarios hacen su primera compra alrededor del dia numero 16 tras registrarse."
   ]
  },
  {
   "cell_type": "markdown",
   "metadata": {},
   "source": [
    "¿Cuántos pedidos hacen durante un período de tiempo dado?\n",
    "¿Cuál es el tamaño promedio de compra?"
   ]
  },
  {
   "cell_type": "code",
   "execution_count": 26,
   "metadata": {},
   "outputs": [],
   "source": [
    "# Definir el período de tiempo (por ejemplo, todo junio de 2017)\n",
    "start_date = '2017-06-01'\n",
    "end_date = '2017-06-30'"
   ]
  },
  {
   "cell_type": "code",
   "execution_count": 27,
   "metadata": {},
   "outputs": [],
   "source": [
    "# Filtrar los datos de compras dentro de ese período\n",
    "compras_periodo = orders_log_us[(orders_log_us['Buy Ts'] >= start_date) & \n",
    "                                (orders_log_us['Buy Ts'] <= end_date)]"
   ]
  },
  {
   "cell_type": "code",
   "execution_count": 28,
   "metadata": {},
   "outputs": [],
   "source": [
    "# Contar el número de pedidos por usuario durante ese período\n",
    "pedidos_por_usuario = compras_periodo.groupby('Uid')['Buy Ts'].count().reset_index()\n",
    "pedidos_por_usuario.columns = ['Uid', 'Numero_Pedidos']"
   ]
  },
  {
   "cell_type": "code",
   "execution_count": 29,
   "metadata": {},
   "outputs": [
    {
     "name": "stdout",
     "output_type": "stream",
     "text": [
      "Numero de pedidos por usuario\n",
      "1     1723\n",
      "2      181\n",
      "3       33\n",
      "4        8\n",
      "5        4\n",
      "6        2\n",
      "11       1\n",
      "13       1\n",
      "Name: Numero_Pedidos, dtype: int64\n",
      "\n",
      "El total de pedidos en el periodo 2017-06-01 a 2017-06-30 fue de =  1953\n"
     ]
    }
   ],
   "source": [
    "# Contar el número de usuarios por cantidad de pedidos\n",
    "conteo_pedidos = pedidos_por_usuario['Numero_Pedidos'].value_counts().sort_index()\n",
    "\n",
    "print(\"Numero de pedidos por usuario\")\n",
    "print(conteo_pedidos)\n",
    "print()\n",
    "print(\"El total de pedidos en el periodo 2017-06-01 a 2017-06-30 fue de = \", conteo_pedidos.sum())"
   ]
  },
  {
   "cell_type": "code",
   "execution_count": 30,
   "metadata": {},
   "outputs": [
    {
     "data": {
      "image/png": "[encoded data removed]",
      "text/plain": [
       "<Figure size 1200x600 with 1 Axes>"
      ]
     },
     "metadata": {},
     "output_type": "display_data"
    }
   ],
   "source": [
    "# Visualizar los resultados\n",
    "plt.figure(figsize=(12, 6))\n",
    "conteo_pedidos.plot(kind='bar')\n",
    "plt.title('Número de Pedidos por Usuario en Junio de 2017')\n",
    "plt.xlabel('Número de Pedidos')\n",
    "plt.ylabel('Número de Usuarios')\n",
    "plt.xticks(rotation=0)\n",
    "plt.grid(True)\n",
    "plt.show()"
   ]
  },
  {
   "cell_type": "markdown",
   "metadata": {},
   "source": [
    "Los resultados dentro del periodo seleccionado (Junio de 2017) muestra que de un total de pedidos de 1953, 1723 pedidos fueron realizados una vez por usuario, esto vendria siendo el 88.22% del total de pedidos. Con los datos mostrados el numero de pedidos mas popular por mes vendria siendo solo 1 pedido."
   ]
  },
  {
   "cell_type": "markdown",
   "metadata": {},
   "source": [
    "¿Cuánto dinero traen? (LTV)*****"
   ]
  },
  {
   "cell_type": "code",
   "execution_count": 31,
   "metadata": {},
   "outputs": [
    {
     "data": {
      "text/plain": [
       "count                   50415\n",
       "unique                  45991\n",
       "top       2018-05-31 10:13:00\n",
       "freq                        9\n",
       "first     2017-06-01 00:10:00\n",
       "last      2018-06-01 00:02:00\n",
       "Name: Buy Ts, dtype: object"
      ]
     },
     "execution_count": 31,
     "metadata": {},
     "output_type": "execute_result"
    }
   ],
   "source": [
    "orders_log_us['Buy Ts'].describe()"
   ]
  },
  {
   "cell_type": "code",
   "execution_count": 32,
   "metadata": {},
   "outputs": [],
   "source": [
    "# Encontrar la fecha de la primera compra de cada cliente\n",
    "\n",
    "first_orders = orders_log_us.groupby('Uid')['Buy Ts'].min().reset_index()\n",
    "first_orders.columns = ['Uid', 'First Buy Ts']"
   ]
  },
  {
   "cell_type": "code",
   "execution_count": 33,
   "metadata": {},
   "outputs": [],
   "source": [
    "# Calcular el número de nuevos clientes para cada fecha (o rango de fechas, en este caso, para cada mes)\n",
    "\n",
    "first_orders['First Buy Ts'] = pd.to_datetime(first_orders['First Buy Ts'])\n",
    "first_orders['Month'] = first_orders['First Buy Ts'].dt.to_period('M')\n",
    "new_customers = first_orders.groupby('Month')['Uid'].count().reset_index()"
   ]
  },
  {
   "cell_type": "code",
   "execution_count": 34,
   "metadata": {},
   "outputs": [],
   "source": [
    "# Añadir el mes del primer pedido a la tabla de pedidos\n",
    "\n",
    "orders_log_us['Buy Ts'] = pd.to_datetime(orders_log_us['Buy Ts'])\n",
    "orders_log_us['Month'] = orders_log_us['Buy Ts'].dt.to_period('M')\n",
    "orders = orders_log_us.merge(first_orders[['Uid', 'Month']], on='Uid', suffixes=('', '_first'))"
   ]
  },
  {
   "cell_type": "code",
   "execution_count": 35,
   "metadata": {},
   "outputs": [
    {
     "data": {
      "text/html": [
       "<div>\n",
       "<style scoped>\n",
       "    .dataframe tbody tr th:only-of-type {\n",
       "        vertical-align: middle;\n",
       "    }\n",
       "\n",
       "    .dataframe tbody tr th {\n",
       "        vertical-align: top;\n",
       "    }\n",
       "\n",
       "    .dataframe thead th {\n",
       "        text-align: right;\n",
       "    }\n",
       "</style>\n",
       "<table border=\"1\" class=\"dataframe\">\n",
       "  <thead>\n",
       "    <tr style=\"text-align: right;\">\n",
       "      <th></th>\n",
       "      <th>Buy Ts</th>\n",
       "      <th>Revenue</th>\n",
       "      <th>Uid</th>\n",
       "      <th>Month</th>\n",
       "      <th>Month_first</th>\n",
       "    </tr>\n",
       "  </thead>\n",
       "  <tbody>\n",
       "    <tr>\n",
       "      <th>0</th>\n",
       "      <td>2017-06-01 00:10:00</td>\n",
       "      <td>17.00</td>\n",
       "      <td>10329302124590727494</td>\n",
       "      <td>2017-06</td>\n",
       "      <td>2017-06</td>\n",
       "    </tr>\n",
       "    <tr>\n",
       "      <th>1</th>\n",
       "      <td>2017-06-01 00:25:00</td>\n",
       "      <td>0.55</td>\n",
       "      <td>11627257723692907447</td>\n",
       "      <td>2017-06</td>\n",
       "      <td>2017-06</td>\n",
       "    </tr>\n",
       "    <tr>\n",
       "      <th>2</th>\n",
       "      <td>2017-06-01 00:27:00</td>\n",
       "      <td>0.37</td>\n",
       "      <td>17903680561304213844</td>\n",
       "      <td>2017-06</td>\n",
       "      <td>2017-06</td>\n",
       "    </tr>\n",
       "    <tr>\n",
       "      <th>3</th>\n",
       "      <td>2017-06-01 00:29:00</td>\n",
       "      <td>0.55</td>\n",
       "      <td>16109239769442553005</td>\n",
       "      <td>2017-06</td>\n",
       "      <td>2017-06</td>\n",
       "    </tr>\n",
       "    <tr>\n",
       "      <th>4</th>\n",
       "      <td>2017-06-01 07:58:00</td>\n",
       "      <td>0.37</td>\n",
       "      <td>14200605875248379450</td>\n",
       "      <td>2017-06</td>\n",
       "      <td>2017-06</td>\n",
       "    </tr>\n",
       "    <tr>\n",
       "      <th>...</th>\n",
       "      <td>...</td>\n",
       "      <td>...</td>\n",
       "      <td>...</td>\n",
       "      <td>...</td>\n",
       "      <td>...</td>\n",
       "    </tr>\n",
       "    <tr>\n",
       "      <th>50410</th>\n",
       "      <td>2018-05-31 23:50:00</td>\n",
       "      <td>4.64</td>\n",
       "      <td>12296626599487328624</td>\n",
       "      <td>2018-05</td>\n",
       "      <td>2018-05</td>\n",
       "    </tr>\n",
       "    <tr>\n",
       "      <th>50411</th>\n",
       "      <td>2018-05-31 23:50:00</td>\n",
       "      <td>5.80</td>\n",
       "      <td>11369640365507475976</td>\n",
       "      <td>2018-05</td>\n",
       "      <td>2018-05</td>\n",
       "    </tr>\n",
       "    <tr>\n",
       "      <th>50412</th>\n",
       "      <td>2018-05-31 23:54:00</td>\n",
       "      <td>0.30</td>\n",
       "      <td>1786462140797698849</td>\n",
       "      <td>2018-05</td>\n",
       "      <td>2018-05</td>\n",
       "    </tr>\n",
       "    <tr>\n",
       "      <th>50413</th>\n",
       "      <td>2018-05-31 23:56:00</td>\n",
       "      <td>3.67</td>\n",
       "      <td>3993697860786194247</td>\n",
       "      <td>2018-05</td>\n",
       "      <td>2018-05</td>\n",
       "    </tr>\n",
       "    <tr>\n",
       "      <th>50414</th>\n",
       "      <td>2018-06-01 00:02:00</td>\n",
       "      <td>3.42</td>\n",
       "      <td>83872787173869366</td>\n",
       "      <td>2018-06</td>\n",
       "      <td>2018-06</td>\n",
       "    </tr>\n",
       "  </tbody>\n",
       "</table>\n",
       "<p>50415 rows × 5 columns</p>\n",
       "</div>"
      ],
      "text/plain": [
       "                   Buy Ts  Revenue                   Uid    Month Month_first\n",
       "0     2017-06-01 00:10:00    17.00  10329302124590727494  2017-06     2017-06\n",
       "1     2017-06-01 00:25:00     0.55  11627257723692907447  2017-06     2017-06\n",
       "2     2017-06-01 00:27:00     0.37  17903680561304213844  2017-06     2017-06\n",
       "3     2017-06-01 00:29:00     0.55  16109239769442553005  2017-06     2017-06\n",
       "4     2017-06-01 07:58:00     0.37  14200605875248379450  2017-06     2017-06\n",
       "...                   ...      ...                   ...      ...         ...\n",
       "50410 2018-05-31 23:50:00     4.64  12296626599487328624  2018-05     2018-05\n",
       "50411 2018-05-31 23:50:00     5.80  11369640365507475976  2018-05     2018-05\n",
       "50412 2018-05-31 23:54:00     0.30   1786462140797698849  2018-05     2018-05\n",
       "50413 2018-05-31 23:56:00     3.67   3993697860786194247  2018-05     2018-05\n",
       "50414 2018-06-01 00:02:00     3.42     83872787173869366  2018-06     2018-06\n",
       "\n",
       "[50415 rows x 5 columns]"
      ]
     },
     "execution_count": 35,
     "metadata": {},
     "output_type": "execute_result"
    }
   ],
   "source": [
    "orders"
   ]
  },
  {
   "cell_type": "code",
   "execution_count": 36,
   "metadata": {},
   "outputs": [
    {
     "data": {
      "text/html": [
       "<div>\n",
       "<style scoped>\n",
       "    .dataframe tbody tr th:only-of-type {\n",
       "        vertical-align: middle;\n",
       "    }\n",
       "\n",
       "    .dataframe tbody tr th {\n",
       "        vertical-align: top;\n",
       "    }\n",
       "\n",
       "    .dataframe thead th {\n",
       "        text-align: right;\n",
       "    }\n",
       "</style>\n",
       "<table border=\"1\" class=\"dataframe\">\n",
       "  <thead>\n",
       "    <tr style=\"text-align: right;\">\n",
       "      <th></th>\n",
       "      <th>Month_first</th>\n",
       "      <th>n_buyers</th>\n",
       "    </tr>\n",
       "  </thead>\n",
       "  <tbody>\n",
       "    <tr>\n",
       "      <th>0</th>\n",
       "      <td>2017-06</td>\n",
       "      <td>1</td>\n",
       "    </tr>\n",
       "    <tr>\n",
       "      <th>1</th>\n",
       "      <td>2017-06</td>\n",
       "      <td>1</td>\n",
       "    </tr>\n",
       "    <tr>\n",
       "      <th>2</th>\n",
       "      <td>2017-06</td>\n",
       "      <td>1</td>\n",
       "    </tr>\n",
       "    <tr>\n",
       "      <th>3</th>\n",
       "      <td>2017-06</td>\n",
       "      <td>1</td>\n",
       "    </tr>\n",
       "    <tr>\n",
       "      <th>4</th>\n",
       "      <td>2017-06</td>\n",
       "      <td>1</td>\n",
       "    </tr>\n",
       "  </tbody>\n",
       "</table>\n",
       "</div>"
      ],
      "text/plain": [
       "  Month_first  n_buyers\n",
       "0     2017-06         1\n",
       "1     2017-06         1\n",
       "2     2017-06         1\n",
       "3     2017-06         1\n",
       "4     2017-06         1"
      ]
     },
     "execution_count": 36,
     "metadata": {},
     "output_type": "execute_result"
    }
   ],
   "source": [
    "# Calcular el numero de clientes para cada mes\n",
    "\n",
    "cohort_sizes = first_orders.groupby('First Buy Ts').agg({'Uid': 'nunique'}).reset_index()\n",
    "cohort_sizes.columns = ['Month_first', \"n_buyers\"]\n",
    "cohort_sizes['Month_first'] = cohort_sizes['Month_first'].dt.to_period('M')\n",
    "cohort_sizes.head()"
   ]
  },
  {
   "cell_type": "code",
   "execution_count": 37,
   "metadata": {},
   "outputs": [
    {
     "data": {
      "text/html": [
       "<div>\n",
       "<style scoped>\n",
       "    .dataframe tbody tr th:only-of-type {\n",
       "        vertical-align: middle;\n",
       "    }\n",
       "\n",
       "    .dataframe tbody tr th {\n",
       "        vertical-align: top;\n",
       "    }\n",
       "\n",
       "    .dataframe thead th {\n",
       "        text-align: right;\n",
       "    }\n",
       "</style>\n",
       "<table border=\"1\" class=\"dataframe\">\n",
       "  <thead>\n",
       "    <tr style=\"text-align: right;\">\n",
       "      <th></th>\n",
       "      <th>Month_first</th>\n",
       "      <th>Month</th>\n",
       "      <th>Revenue</th>\n",
       "    </tr>\n",
       "  </thead>\n",
       "  <tbody>\n",
       "    <tr>\n",
       "      <th>0</th>\n",
       "      <td>2017-06</td>\n",
       "      <td>2017-06</td>\n",
       "      <td>9557.49</td>\n",
       "    </tr>\n",
       "    <tr>\n",
       "      <th>1</th>\n",
       "      <td>2017-06</td>\n",
       "      <td>2017-07</td>\n",
       "      <td>981.82</td>\n",
       "    </tr>\n",
       "    <tr>\n",
       "      <th>2</th>\n",
       "      <td>2017-06</td>\n",
       "      <td>2017-08</td>\n",
       "      <td>885.34</td>\n",
       "    </tr>\n",
       "    <tr>\n",
       "      <th>3</th>\n",
       "      <td>2017-06</td>\n",
       "      <td>2017-09</td>\n",
       "      <td>1931.30</td>\n",
       "    </tr>\n",
       "    <tr>\n",
       "      <th>4</th>\n",
       "      <td>2017-06</td>\n",
       "      <td>2017-10</td>\n",
       "      <td>2068.58</td>\n",
       "    </tr>\n",
       "  </tbody>\n",
       "</table>\n",
       "</div>"
      ],
      "text/plain": [
       "  Month_first    Month  Revenue\n",
       "0     2017-06  2017-06  9557.49\n",
       "1     2017-06  2017-07   981.82\n",
       "2     2017-06  2017-08   885.34\n",
       "3     2017-06  2017-09  1931.30\n",
       "4     2017-06  2017-10  2068.58"
      ]
     },
     "execution_count": 37,
     "metadata": {},
     "output_type": "execute_result"
    }
   ],
   "source": [
    "# Agrupar la tabla de pedidos por mes de la primera compra y mes de la compra, y totalizar ingresos\n",
    "\n",
    "cohorts = orders.groupby(['Month_first', 'Month']).agg({'Revenue': 'sum'}).reset_index()\n",
    "cohorts.head()"
   ]
  },
  {
   "cell_type": "code",
   "execution_count": 38,
   "metadata": {},
   "outputs": [
    {
     "data": {
      "text/html": [
       "<div>\n",
       "<style scoped>\n",
       "    .dataframe tbody tr th:only-of-type {\n",
       "        vertical-align: middle;\n",
       "    }\n",
       "\n",
       "    .dataframe tbody tr th {\n",
       "        vertical-align: top;\n",
       "    }\n",
       "\n",
       "    .dataframe thead th {\n",
       "        text-align: right;\n",
       "    }\n",
       "</style>\n",
       "<table border=\"1\" class=\"dataframe\">\n",
       "  <thead>\n",
       "    <tr style=\"text-align: right;\">\n",
       "      <th></th>\n",
       "      <th>Month_first</th>\n",
       "      <th>n_buyers</th>\n",
       "      <th>Month</th>\n",
       "      <th>Revenue</th>\n",
       "    </tr>\n",
       "  </thead>\n",
       "  <tbody>\n",
       "    <tr>\n",
       "      <th>0</th>\n",
       "      <td>2017-06</td>\n",
       "      <td>1</td>\n",
       "      <td>2017-06</td>\n",
       "      <td>9557.49</td>\n",
       "    </tr>\n",
       "    <tr>\n",
       "      <th>1</th>\n",
       "      <td>2017-06</td>\n",
       "      <td>1</td>\n",
       "      <td>2017-07</td>\n",
       "      <td>981.82</td>\n",
       "    </tr>\n",
       "    <tr>\n",
       "      <th>2</th>\n",
       "      <td>2017-06</td>\n",
       "      <td>1</td>\n",
       "      <td>2017-08</td>\n",
       "      <td>885.34</td>\n",
       "    </tr>\n",
       "    <tr>\n",
       "      <th>3</th>\n",
       "      <td>2017-06</td>\n",
       "      <td>1</td>\n",
       "      <td>2017-09</td>\n",
       "      <td>1931.30</td>\n",
       "    </tr>\n",
       "    <tr>\n",
       "      <th>4</th>\n",
       "      <td>2017-06</td>\n",
       "      <td>1</td>\n",
       "      <td>2017-10</td>\n",
       "      <td>2068.58</td>\n",
       "    </tr>\n",
       "  </tbody>\n",
       "</table>\n",
       "</div>"
      ],
      "text/plain": [
       "  Month_first  n_buyers    Month  Revenue\n",
       "0     2017-06         1  2017-06  9557.49\n",
       "1     2017-06         1  2017-07   981.82\n",
       "2     2017-06         1  2017-08   885.34\n",
       "3     2017-06         1  2017-09  1931.30\n",
       "4     2017-06         1  2017-10  2068.58"
      ]
     },
     "execution_count": 38,
     "metadata": {},
     "output_type": "execute_result"
    }
   ],
   "source": [
    "report = pd.merge(cohort_sizes, cohorts, on= 'Month_first')\n",
    "report.head()"
   ]
  },
  {
   "cell_type": "code",
   "execution_count": 39,
   "metadata": {},
   "outputs": [
    {
     "data": {
      "text/html": [
       "<div>\n",
       "<style scoped>\n",
       "    .dataframe tbody tr th:only-of-type {\n",
       "        vertical-align: middle;\n",
       "    }\n",
       "\n",
       "    .dataframe tbody tr th {\n",
       "        vertical-align: top;\n",
       "    }\n",
       "\n",
       "    .dataframe thead th {\n",
       "        text-align: right;\n",
       "    }\n",
       "</style>\n",
       "<table border=\"1\" class=\"dataframe\">\n",
       "  <thead>\n",
       "    <tr style=\"text-align: right;\">\n",
       "      <th></th>\n",
       "      <th>Month_first</th>\n",
       "      <th>n_buyers</th>\n",
       "      <th>Month</th>\n",
       "      <th>Revenue</th>\n",
       "      <th>age</th>\n",
       "      <th>gp</th>\n",
       "    </tr>\n",
       "  </thead>\n",
       "  <tbody>\n",
       "    <tr>\n",
       "      <th>0</th>\n",
       "      <td>2017-06</td>\n",
       "      <td>1</td>\n",
       "      <td>2017-06</td>\n",
       "      <td>9557.49</td>\n",
       "      <td>0</td>\n",
       "      <td>4778.745</td>\n",
       "    </tr>\n",
       "    <tr>\n",
       "      <th>1</th>\n",
       "      <td>2017-06</td>\n",
       "      <td>1</td>\n",
       "      <td>2017-07</td>\n",
       "      <td>981.82</td>\n",
       "      <td>1</td>\n",
       "      <td>490.910</td>\n",
       "    </tr>\n",
       "    <tr>\n",
       "      <th>2</th>\n",
       "      <td>2017-06</td>\n",
       "      <td>1</td>\n",
       "      <td>2017-08</td>\n",
       "      <td>885.34</td>\n",
       "      <td>2</td>\n",
       "      <td>442.670</td>\n",
       "    </tr>\n",
       "    <tr>\n",
       "      <th>3</th>\n",
       "      <td>2017-06</td>\n",
       "      <td>1</td>\n",
       "      <td>2017-09</td>\n",
       "      <td>1931.30</td>\n",
       "      <td>3</td>\n",
       "      <td>965.650</td>\n",
       "    </tr>\n",
       "    <tr>\n",
       "      <th>4</th>\n",
       "      <td>2017-06</td>\n",
       "      <td>1</td>\n",
       "      <td>2017-10</td>\n",
       "      <td>2068.58</td>\n",
       "      <td>4</td>\n",
       "      <td>1034.290</td>\n",
       "    </tr>\n",
       "  </tbody>\n",
       "</table>\n",
       "</div>"
      ],
      "text/plain": [
       "  Month_first  n_buyers    Month  Revenue  age        gp\n",
       "0     2017-06         1  2017-06  9557.49    0  4778.745\n",
       "1     2017-06         1  2017-07   981.82    1   490.910\n",
       "2     2017-06         1  2017-08   885.34    2   442.670\n",
       "3     2017-06         1  2017-09  1931.30    3   965.650\n",
       "4     2017-06         1  2017-10  2068.58    4  1034.290"
      ]
     },
     "execution_count": 39,
     "metadata": {},
     "output_type": "execute_result"
    }
   ],
   "source": [
    "report['age'] = (report['Month'].dt.year - report['Month_first'].dt.year) * 12 + (report['Month'].dt.month - report['Month_first'].dt.month)\n",
    "\n",
    "report['age'] = report['age'].round().astype('int')\n",
    "\n",
    "margin_rate = 0.5\n",
    "report['gp'] = report['Revenue'] * margin_rate\n",
    "\n",
    "\n",
    "report.head()"
   ]
  },
  {
   "cell_type": "code",
   "execution_count": 40,
   "metadata": {},
   "outputs": [
    {
     "data": {
      "text/html": [
       "<div>\n",
       "<style scoped>\n",
       "    .dataframe tbody tr th:only-of-type {\n",
       "        vertical-align: middle;\n",
       "    }\n",
       "\n",
       "    .dataframe tbody tr th {\n",
       "        vertical-align: top;\n",
       "    }\n",
       "\n",
       "    .dataframe thead th {\n",
       "        text-align: right;\n",
       "    }\n",
       "</style>\n",
       "<table border=\"1\" class=\"dataframe\">\n",
       "  <thead>\n",
       "    <tr style=\"text-align: right;\">\n",
       "      <th>age</th>\n",
       "      <th>0</th>\n",
       "      <th>1</th>\n",
       "      <th>2</th>\n",
       "      <th>3</th>\n",
       "      <th>4</th>\n",
       "      <th>5</th>\n",
       "      <th>6</th>\n",
       "      <th>7</th>\n",
       "      <th>8</th>\n",
       "      <th>9</th>\n",
       "      <th>10</th>\n",
       "      <th>11</th>\n",
       "    </tr>\n",
       "    <tr>\n",
       "      <th>Month_first</th>\n",
       "      <th></th>\n",
       "      <th></th>\n",
       "      <th></th>\n",
       "      <th></th>\n",
       "      <th></th>\n",
       "      <th></th>\n",
       "      <th></th>\n",
       "      <th></th>\n",
       "      <th></th>\n",
       "      <th></th>\n",
       "      <th></th>\n",
       "      <th></th>\n",
       "    </tr>\n",
       "  </thead>\n",
       "  <tbody>\n",
       "    <tr>\n",
       "      <th>2017-06</th>\n",
       "      <td>4685.0</td>\n",
       "      <td>481.0</td>\n",
       "      <td>434.0</td>\n",
       "      <td>947.0</td>\n",
       "      <td>1014.0</td>\n",
       "      <td>729.0</td>\n",
       "      <td>942.0</td>\n",
       "      <td>577.0</td>\n",
       "      <td>549.0</td>\n",
       "      <td>601.0</td>\n",
       "      <td>566.0</td>\n",
       "      <td>255.0</td>\n",
       "    </tr>\n",
       "    <tr>\n",
       "      <th>2017-07</th>\n",
       "      <td>5644.0</td>\n",
       "      <td>315.0</td>\n",
       "      <td>586.0</td>\n",
       "      <td>337.0</td>\n",
       "      <td>166.0</td>\n",
       "      <td>147.0</td>\n",
       "      <td>113.0</td>\n",
       "      <td>133.0</td>\n",
       "      <td>151.0</td>\n",
       "      <td>138.0</td>\n",
       "      <td>146.0</td>\n",
       "      <td></td>\n",
       "    </tr>\n",
       "    <tr>\n",
       "      <th>2017-08</th>\n",
       "      <td>3561.0</td>\n",
       "      <td>319.0</td>\n",
       "      <td>309.0</td>\n",
       "      <td>264.0</td>\n",
       "      <td>333.0</td>\n",
       "      <td>191.0</td>\n",
       "      <td>142.0</td>\n",
       "      <td>273.0</td>\n",
       "      <td>197.0</td>\n",
       "      <td>127.0</td>\n",
       "      <td></td>\n",
       "      <td></td>\n",
       "    </tr>\n",
       "    <tr>\n",
       "      <th>2017-09</th>\n",
       "      <td>7119.0</td>\n",
       "      <td>1410.0</td>\n",
       "      <td>657.0</td>\n",
       "      <td>5014.0</td>\n",
       "      <td>505.0</td>\n",
       "      <td>816.0</td>\n",
       "      <td>885.0</td>\n",
       "      <td>307.0</td>\n",
       "      <td>232.0</td>\n",
       "      <td></td>\n",
       "      <td></td>\n",
       "      <td></td>\n",
       "    </tr>\n",
       "    <tr>\n",
       "      <th>2017-10</th>\n",
       "      <td>10424.0</td>\n",
       "      <td>1116.0</td>\n",
       "      <td>399.0</td>\n",
       "      <td>327.0</td>\n",
       "      <td>316.0</td>\n",
       "      <td>251.0</td>\n",
       "      <td>177.0</td>\n",
       "      <td>241.0</td>\n",
       "      <td></td>\n",
       "      <td></td>\n",
       "      <td></td>\n",
       "      <td></td>\n",
       "    </tr>\n",
       "    <tr>\n",
       "      <th>2017-11</th>\n",
       "      <td>10067.0</td>\n",
       "      <td>780.0</td>\n",
       "      <td>390.0</td>\n",
       "      <td>635.0</td>\n",
       "      <td>289.0</td>\n",
       "      <td>105.0</td>\n",
       "      <td>224.0</td>\n",
       "      <td></td>\n",
       "      <td></td>\n",
       "      <td></td>\n",
       "      <td></td>\n",
       "      <td></td>\n",
       "    </tr>\n",
       "    <tr>\n",
       "      <th>2017-12</th>\n",
       "      <td>9993.0</td>\n",
       "      <td>549.0</td>\n",
       "      <td>1951.0</td>\n",
       "      <td>2247.0</td>\n",
       "      <td>660.0</td>\n",
       "      <td>713.0</td>\n",
       "      <td></td>\n",
       "      <td></td>\n",
       "      <td></td>\n",
       "      <td></td>\n",
       "      <td></td>\n",
       "      <td></td>\n",
       "    </tr>\n",
       "    <tr>\n",
       "      <th>2018-01</th>\n",
       "      <td>6769.0</td>\n",
       "      <td>482.0</td>\n",
       "      <td>498.0</td>\n",
       "      <td>234.0</td>\n",
       "      <td>103.0</td>\n",
       "      <td></td>\n",
       "      <td></td>\n",
       "      <td></td>\n",
       "      <td></td>\n",
       "      <td></td>\n",
       "      <td></td>\n",
       "      <td></td>\n",
       "    </tr>\n",
       "    <tr>\n",
       "      <th>2018-02</th>\n",
       "      <td>7311.0</td>\n",
       "      <td>489.0</td>\n",
       "      <td>138.0</td>\n",
       "      <td>130.0</td>\n",
       "      <td></td>\n",
       "      <td></td>\n",
       "      <td></td>\n",
       "      <td></td>\n",
       "      <td></td>\n",
       "      <td></td>\n",
       "      <td></td>\n",
       "      <td></td>\n",
       "    </tr>\n",
       "    <tr>\n",
       "      <th>2018-03</th>\n",
       "      <td>8241.0</td>\n",
       "      <td>512.0</td>\n",
       "      <td>537.0</td>\n",
       "      <td></td>\n",
       "      <td></td>\n",
       "      <td></td>\n",
       "      <td></td>\n",
       "      <td></td>\n",
       "      <td></td>\n",
       "      <td></td>\n",
       "      <td></td>\n",
       "      <td></td>\n",
       "    </tr>\n",
       "    <tr>\n",
       "      <th>2018-04</th>\n",
       "      <td>5179.0</td>\n",
       "      <td>591.0</td>\n",
       "      <td></td>\n",
       "      <td></td>\n",
       "      <td></td>\n",
       "      <td></td>\n",
       "      <td></td>\n",
       "      <td></td>\n",
       "      <td></td>\n",
       "      <td></td>\n",
       "      <td></td>\n",
       "      <td></td>\n",
       "    </tr>\n",
       "    <tr>\n",
       "      <th>2018-05</th>\n",
       "      <td>6679.0</td>\n",
       "      <td></td>\n",
       "      <td></td>\n",
       "      <td></td>\n",
       "      <td></td>\n",
       "      <td></td>\n",
       "      <td></td>\n",
       "      <td></td>\n",
       "      <td></td>\n",
       "      <td></td>\n",
       "      <td></td>\n",
       "      <td></td>\n",
       "    </tr>\n",
       "    <tr>\n",
       "      <th>2018-06</th>\n",
       "      <td>2.0</td>\n",
       "      <td></td>\n",
       "      <td></td>\n",
       "      <td></td>\n",
       "      <td></td>\n",
       "      <td></td>\n",
       "      <td></td>\n",
       "      <td></td>\n",
       "      <td></td>\n",
       "      <td></td>\n",
       "      <td></td>\n",
       "      <td></td>\n",
       "    </tr>\n",
       "  </tbody>\n",
       "</table>\n",
       "</div>"
      ],
      "text/plain": [
       "age               0       1       2       3       4      5      6      7   \\\n",
       "Month_first                                                                 \n",
       "2017-06       4685.0   481.0   434.0   947.0  1014.0  729.0  942.0  577.0   \n",
       "2017-07       5644.0   315.0   586.0   337.0   166.0  147.0  113.0  133.0   \n",
       "2017-08       3561.0   319.0   309.0   264.0   333.0  191.0  142.0  273.0   \n",
       "2017-09       7119.0  1410.0   657.0  5014.0   505.0  816.0  885.0  307.0   \n",
       "2017-10      10424.0  1116.0   399.0   327.0   316.0  251.0  177.0  241.0   \n",
       "2017-11      10067.0   780.0   390.0   635.0   289.0  105.0  224.0          \n",
       "2017-12       9993.0   549.0  1951.0  2247.0   660.0  713.0                 \n",
       "2018-01       6769.0   482.0   498.0   234.0   103.0                        \n",
       "2018-02       7311.0   489.0   138.0   130.0                                \n",
       "2018-03       8241.0   512.0   537.0                                        \n",
       "2018-04       5179.0   591.0                                                \n",
       "2018-05       6679.0                                                        \n",
       "2018-06          2.0                                                        \n",
       "\n",
       "age             8      9      10     11  \n",
       "Month_first                              \n",
       "2017-06      549.0  601.0  566.0  255.0  \n",
       "2017-07      151.0  138.0  146.0         \n",
       "2017-08      197.0  127.0                \n",
       "2017-09      232.0                       \n",
       "2017-10                                  \n",
       "2017-11                                  \n",
       "2017-12                                  \n",
       "2018-01                                  \n",
       "2018-02                                  \n",
       "2018-03                                  \n",
       "2018-04                                  \n",
       "2018-05                                  \n",
       "2018-06                                  "
      ]
     },
     "execution_count": 40,
     "metadata": {},
     "output_type": "execute_result"
    }
   ],
   "source": [
    "report['ltv'] = report['gp'] / report['n_buyers']\n",
    "\n",
    "output = report.pivot_table(index= 'Month_first', columns= 'age', values= 'ltv', aggfunc= 'mean').round()\n",
    "\n",
    "output.fillna('')"
   ]
  },
  {
   "cell_type": "code",
   "execution_count": 54,
   "metadata": {},
   "outputs": [
    {
     "data": {
      "image/png": "[encoded data removed]",
      "text/plain": [
       "<Figure size 1000x600 with 2 Axes>"
      ]
     },
     "metadata": {},
     "output_type": "display_data"
    }
   ],
   "source": [
    "plt.figure(figsize=(10, 6))\n",
    "sns.heatmap(output, annot=True, cmap='coolwarm', cbar=True)\n",
    "plt.title('Mapa de Calor')\n",
    "plt.show()"
   ]
  },
  {
   "cell_type": "code",
   "execution_count": 41,
   "metadata": {},
   "outputs": [
    {
     "data": {
      "text/plain": [
       "11780.0"
      ]
     },
     "execution_count": 41,
     "metadata": {},
     "output_type": "execute_result"
    }
   ],
   "source": [
    "# Encontremos el LTV de la primera cohorte sumando el valor de cada mes\n",
    "\n",
    "ltv_201706 = output.loc['2017-06'].sum()\n",
    "ltv_201706"
   ]
  },
  {
   "cell_type": "code",
   "execution_count": 42,
   "metadata": {},
   "outputs": [
    {
     "data": {
      "text/html": [
       "<div>\n",
       "<style scoped>\n",
       "    .dataframe tbody tr th:only-of-type {\n",
       "        vertical-align: middle;\n",
       "    }\n",
       "\n",
       "    .dataframe tbody tr th {\n",
       "        vertical-align: top;\n",
       "    }\n",
       "\n",
       "    .dataframe thead th {\n",
       "        text-align: right;\n",
       "    }\n",
       "</style>\n",
       "<table border=\"1\" class=\"dataframe\">\n",
       "  <thead>\n",
       "    <tr style=\"text-align: right;\">\n",
       "      <th></th>\n",
       "      <th>Month_first</th>\n",
       "      <th>n_buyers</th>\n",
       "      <th>Month</th>\n",
       "      <th>Revenue</th>\n",
       "      <th>age</th>\n",
       "      <th>gp</th>\n",
       "      <th>ltv</th>\n",
       "    </tr>\n",
       "  </thead>\n",
       "  <tbody>\n",
       "    <tr>\n",
       "      <th>0</th>\n",
       "      <td>2017-06</td>\n",
       "      <td>1</td>\n",
       "      <td>2017-06</td>\n",
       "      <td>9557.49</td>\n",
       "      <td>0</td>\n",
       "      <td>4778.745</td>\n",
       "      <td>4778.745</td>\n",
       "    </tr>\n",
       "    <tr>\n",
       "      <th>1</th>\n",
       "      <td>2017-06</td>\n",
       "      <td>1</td>\n",
       "      <td>2017-07</td>\n",
       "      <td>981.82</td>\n",
       "      <td>1</td>\n",
       "      <td>490.910</td>\n",
       "      <td>490.910</td>\n",
       "    </tr>\n",
       "    <tr>\n",
       "      <th>2</th>\n",
       "      <td>2017-06</td>\n",
       "      <td>1</td>\n",
       "      <td>2017-08</td>\n",
       "      <td>885.34</td>\n",
       "      <td>2</td>\n",
       "      <td>442.670</td>\n",
       "      <td>442.670</td>\n",
       "    </tr>\n",
       "    <tr>\n",
       "      <th>3</th>\n",
       "      <td>2017-06</td>\n",
       "      <td>1</td>\n",
       "      <td>2017-09</td>\n",
       "      <td>1931.30</td>\n",
       "      <td>3</td>\n",
       "      <td>965.650</td>\n",
       "      <td>965.650</td>\n",
       "    </tr>\n",
       "    <tr>\n",
       "      <th>4</th>\n",
       "      <td>2017-06</td>\n",
       "      <td>1</td>\n",
       "      <td>2017-10</td>\n",
       "      <td>2068.58</td>\n",
       "      <td>4</td>\n",
       "      <td>1034.290</td>\n",
       "      <td>1034.290</td>\n",
       "    </tr>\n",
       "  </tbody>\n",
       "</table>\n",
       "</div>"
      ],
      "text/plain": [
       "  Month_first  n_buyers    Month  Revenue  age        gp       ltv\n",
       "0     2017-06         1  2017-06  9557.49    0  4778.745  4778.745\n",
       "1     2017-06         1  2017-07   981.82    1   490.910   490.910\n",
       "2     2017-06         1  2017-08   885.34    2   442.670   442.670\n",
       "3     2017-06         1  2017-09  1931.30    3   965.650   965.650\n",
       "4     2017-06         1  2017-10  2068.58    4  1034.290  1034.290"
      ]
     },
     "execution_count": 42,
     "metadata": {},
     "output_type": "execute_result"
    }
   ],
   "source": [
    "report.head()"
   ]
  },
  {
   "cell_type": "markdown",
   "metadata": {},
   "source": [
    "# Marketing"
   ]
  },
  {
   "cell_type": "markdown",
   "metadata": {},
   "source": [
    "¿Cuánto dinero se gastó?"
   ]
  },
  {
   "cell_type": "code",
   "execution_count": 43,
   "metadata": {},
   "outputs": [],
   "source": [
    "# Agrupar por año y mes y sumar los costos\n",
    "monthly_costs = costs_us.groupby(costs_us['dt'].dt.to_period('M'))['costs'].sum().reset_index()\n",
    "monthly_costs.columns = ['Mes', 'Total Costos']"
   ]
  },
  {
   "cell_type": "code",
   "execution_count": 44,
   "metadata": {},
   "outputs": [
    {
     "name": "stdout",
     "output_type": "stream",
     "text": [
      "        Mes  Total Costos\n",
      "0   2017-06      18015.00\n",
      "1   2017-07      18240.59\n",
      "2   2017-08      14790.54\n",
      "3   2017-09      24368.91\n",
      "4   2017-10      36322.88\n",
      "5   2017-11      37907.88\n",
      "6   2017-12      38315.35\n",
      "7   2018-01      33518.52\n",
      "8   2018-02      32723.03\n",
      "9   2018-03      30415.27\n",
      "10  2018-04      22289.38\n",
      "11  2018-05      22224.27\n"
     ]
    }
   ],
   "source": [
    "print(monthly_costs)"
   ]
  },
  {
   "cell_type": "markdown",
   "metadata": {},
   "source": [
    "¿Cuál fue el costo de adquisición de clientes de cada una de las fuentes?"
   ]
  },
  {
   "cell_type": "code",
   "execution_count": 45,
   "metadata": {},
   "outputs": [],
   "source": [
    "# Agrupar por fuente y sumar los costos\n",
    "costs_us['year_month'] = costs_us['dt'].dt.to_period('Y')\n",
    "source_costs = costs_us.groupby(['source_id', 'year_month'])['costs'].sum().reset_index()\n",
    "source_costs.columns = ['Fuente','Año','Total Costos']"
   ]
  },
  {
   "cell_type": "code",
   "execution_count": 46,
   "metadata": {},
   "outputs": [
    {
     "name": "stdout",
     "output_type": "stream",
     "text": [
      "    Fuente   Año  Total Costos\n",
      "0        1  2017      11754.42\n",
      "1        1  2018       9078.85\n",
      "2        2  2017      24547.68\n",
      "3        2  2018      18258.36\n",
      "4        3  2017      80495.21\n",
      "5        3  2018      60826.42\n",
      "6        4  2017      34944.28\n",
      "7        4  2018      26129.32\n",
      "8        5  2017      29613.94\n",
      "9        5  2018      22143.16\n",
      "10       9  2017       3202.88\n",
      "11       9  2018       2314.61\n",
      "12      10  2017       3402.74\n",
      "13      10  2018       2419.75\n"
     ]
    }
   ],
   "source": [
    "print(source_costs)"
   ]
  },
  {
   "cell_type": "code",
   "execution_count": 47,
   "metadata": {},
   "outputs": [
    {
     "data": {
      "image/png": "[encoded data removed]",
      "text/plain": [
       "<Figure size 1400x700 with 1 Axes>"
      ]
     },
     "metadata": {},
     "output_type": "display_data"
    }
   ],
   "source": [
    "# Gráfico de total de costos por fuente\n",
    "\n",
    "pivot_costs = source_costs.pivot(index='Año', columns= 'Fuente',values='Total Costos' )\n",
    "\n",
    "pivot_costs.plot(kind='bar', figsize=(14, 7))\n",
    "plt.title('Costos por fuente')\n",
    "plt.xlabel('Año')\n",
    "plt.ylabel('Total Costos')\n",
    "plt.show()"
   ]
  },
  {
   "cell_type": "markdown",
   "metadata": {},
   "source": [
    "Podemos ver claramente que la empresa destina la mayor parte de sus costos a la fuente numero 3 con un total de 141,321.63  invertidos, comparando con la segunda mas alta siendo la fuente 4 con un total de 61,073.60; la fuente 3 cuesta un 131.39% mas que la fuente 4 en la totalidad del periodo."
   ]
  },
  {
   "cell_type": "markdown",
   "metadata": {},
   "source": [
    "¿Cuán rentables eran las inversiones? (ROMI)"
   ]
  },
  {
   "cell_type": "code",
   "execution_count": 48,
   "metadata": {},
   "outputs": [
    {
     "data": {
      "text/html": [
       "<div>\n",
       "<style scoped>\n",
       "    .dataframe tbody tr th:only-of-type {\n",
       "        vertical-align: middle;\n",
       "    }\n",
       "\n",
       "    .dataframe tbody tr th {\n",
       "        vertical-align: top;\n",
       "    }\n",
       "\n",
       "    .dataframe thead th {\n",
       "        text-align: right;\n",
       "    }\n",
       "</style>\n",
       "<table border=\"1\" class=\"dataframe\">\n",
       "  <thead>\n",
       "    <tr style=\"text-align: right;\">\n",
       "      <th></th>\n",
       "      <th>Month_first</th>\n",
       "      <th>n_buyers</th>\n",
       "      <th>Month</th>\n",
       "      <th>Revenue</th>\n",
       "      <th>age</th>\n",
       "      <th>gp</th>\n",
       "      <th>ltv</th>\n",
       "      <th>Mes</th>\n",
       "      <th>Total Costos</th>\n",
       "      <th>cac</th>\n",
       "    </tr>\n",
       "  </thead>\n",
       "  <tbody>\n",
       "    <tr>\n",
       "      <th>0</th>\n",
       "      <td>2017-06</td>\n",
       "      <td>1</td>\n",
       "      <td>2017-06</td>\n",
       "      <td>9557.49</td>\n",
       "      <td>0</td>\n",
       "      <td>4778.745</td>\n",
       "      <td>4778.745</td>\n",
       "      <td>2017-06</td>\n",
       "      <td>18015.0</td>\n",
       "      <td>18015.0</td>\n",
       "    </tr>\n",
       "    <tr>\n",
       "      <th>1</th>\n",
       "      <td>2017-06</td>\n",
       "      <td>1</td>\n",
       "      <td>2017-07</td>\n",
       "      <td>981.82</td>\n",
       "      <td>1</td>\n",
       "      <td>490.910</td>\n",
       "      <td>490.910</td>\n",
       "      <td>2017-06</td>\n",
       "      <td>18015.0</td>\n",
       "      <td>18015.0</td>\n",
       "    </tr>\n",
       "    <tr>\n",
       "      <th>2</th>\n",
       "      <td>2017-06</td>\n",
       "      <td>1</td>\n",
       "      <td>2017-08</td>\n",
       "      <td>885.34</td>\n",
       "      <td>2</td>\n",
       "      <td>442.670</td>\n",
       "      <td>442.670</td>\n",
       "      <td>2017-06</td>\n",
       "      <td>18015.0</td>\n",
       "      <td>18015.0</td>\n",
       "    </tr>\n",
       "    <tr>\n",
       "      <th>3</th>\n",
       "      <td>2017-06</td>\n",
       "      <td>1</td>\n",
       "      <td>2017-09</td>\n",
       "      <td>1931.30</td>\n",
       "      <td>3</td>\n",
       "      <td>965.650</td>\n",
       "      <td>965.650</td>\n",
       "      <td>2017-06</td>\n",
       "      <td>18015.0</td>\n",
       "      <td>18015.0</td>\n",
       "    </tr>\n",
       "    <tr>\n",
       "      <th>4</th>\n",
       "      <td>2017-06</td>\n",
       "      <td>1</td>\n",
       "      <td>2017-10</td>\n",
       "      <td>2068.58</td>\n",
       "      <td>4</td>\n",
       "      <td>1034.290</td>\n",
       "      <td>1034.290</td>\n",
       "      <td>2017-06</td>\n",
       "      <td>18015.0</td>\n",
       "      <td>18015.0</td>\n",
       "    </tr>\n",
       "  </tbody>\n",
       "</table>\n",
       "</div>"
      ],
      "text/plain": [
       "  Month_first  n_buyers    Month  Revenue  age        gp       ltv      Mes  \\\n",
       "0     2017-06         1  2017-06  9557.49    0  4778.745  4778.745  2017-06   \n",
       "1     2017-06         1  2017-07   981.82    1   490.910   490.910  2017-06   \n",
       "2     2017-06         1  2017-08   885.34    2   442.670   442.670  2017-06   \n",
       "3     2017-06         1  2017-09  1931.30    3   965.650   965.650  2017-06   \n",
       "4     2017-06         1  2017-10  2068.58    4  1034.290  1034.290  2017-06   \n",
       "\n",
       "   Total Costos      cac  \n",
       "0       18015.0  18015.0  \n",
       "1       18015.0  18015.0  \n",
       "2       18015.0  18015.0  \n",
       "3       18015.0  18015.0  \n",
       "4       18015.0  18015.0  "
      ]
     },
     "execution_count": 48,
     "metadata": {},
     "output_type": "execute_result"
    }
   ],
   "source": [
    "# Agregaremos los datos sobre los costos al informe y calcularemos el CAC\n",
    "\n",
    "report_= pd.merge(report, monthly_costs, left_on= 'Month_first', right_on= 'Mes')\n",
    "report_['cac'] = report_['Total Costos'] / report_['n_buyers']\n",
    "report_.head()"
   ]
  },
  {
   "cell_type": "code",
   "execution_count": 49,
   "metadata": {
    "scrolled": true
   },
   "outputs": [
    {
     "data": {
      "text/html": [
       "<div>\n",
       "<style scoped>\n",
       "    .dataframe tbody tr th:only-of-type {\n",
       "        vertical-align: middle;\n",
       "    }\n",
       "\n",
       "    .dataframe tbody tr th {\n",
       "        vertical-align: top;\n",
       "    }\n",
       "\n",
       "    .dataframe thead th {\n",
       "        text-align: right;\n",
       "    }\n",
       "</style>\n",
       "<table border=\"1\" class=\"dataframe\">\n",
       "  <thead>\n",
       "    <tr style=\"text-align: right;\">\n",
       "      <th>age</th>\n",
       "      <th>0</th>\n",
       "      <th>1</th>\n",
       "      <th>2</th>\n",
       "      <th>3</th>\n",
       "      <th>4</th>\n",
       "      <th>5</th>\n",
       "      <th>6</th>\n",
       "      <th>7</th>\n",
       "      <th>8</th>\n",
       "      <th>9</th>\n",
       "      <th>10</th>\n",
       "      <th>11</th>\n",
       "    </tr>\n",
       "    <tr>\n",
       "      <th>Month_first</th>\n",
       "      <th></th>\n",
       "      <th></th>\n",
       "      <th></th>\n",
       "      <th></th>\n",
       "      <th></th>\n",
       "      <th></th>\n",
       "      <th></th>\n",
       "      <th></th>\n",
       "      <th></th>\n",
       "      <th></th>\n",
       "      <th></th>\n",
       "      <th></th>\n",
       "    </tr>\n",
       "  </thead>\n",
       "  <tbody>\n",
       "    <tr>\n",
       "      <th>2017-06</th>\n",
       "      <td>0.265265</td>\n",
       "      <td>0.02725</td>\n",
       "      <td>0.024572</td>\n",
       "      <td>0.053603</td>\n",
       "      <td>0.057413</td>\n",
       "      <td>0.041297</td>\n",
       "      <td>0.053365</td>\n",
       "      <td>0.032655</td>\n",
       "      <td>0.031062</td>\n",
       "      <td>0.034014</td>\n",
       "      <td>0.032075</td>\n",
       "      <td>0.014422</td>\n",
       "    </tr>\n",
       "    <tr>\n",
       "      <th>2017-07</th>\n",
       "      <td>0.316811</td>\n",
       "      <td>0.01767</td>\n",
       "      <td>0.032868</td>\n",
       "      <td>0.018922</td>\n",
       "      <td>0.009319</td>\n",
       "      <td>0.008226</td>\n",
       "      <td>0.006336</td>\n",
       "      <td>0.007476</td>\n",
       "      <td>0.008499</td>\n",
       "      <td>0.007756</td>\n",
       "      <td>0.008206</td>\n",
       "      <td></td>\n",
       "    </tr>\n",
       "    <tr>\n",
       "      <th>2017-08</th>\n",
       "      <td>0.244373</td>\n",
       "      <td>0.02186</td>\n",
       "      <td>0.021234</td>\n",
       "      <td>0.018121</td>\n",
       "      <td>0.022881</td>\n",
       "      <td>0.013132</td>\n",
       "      <td>0.009757</td>\n",
       "      <td>0.018757</td>\n",
       "      <td>0.013533</td>\n",
       "      <td>0.008706</td>\n",
       "      <td></td>\n",
       "      <td></td>\n",
       "    </tr>\n",
       "    <tr>\n",
       "      <th>2017-09</th>\n",
       "      <td>0.298916</td>\n",
       "      <td>0.059184</td>\n",
       "      <td>0.027587</td>\n",
       "      <td>0.210545</td>\n",
       "      <td>0.021212</td>\n",
       "      <td>0.034267</td>\n",
       "      <td>0.037155</td>\n",
       "      <td>0.012876</td>\n",
       "      <td>0.009744</td>\n",
       "      <td></td>\n",
       "      <td></td>\n",
       "      <td></td>\n",
       "    </tr>\n",
       "    <tr>\n",
       "      <th>2017-10</th>\n",
       "      <td>0.298933</td>\n",
       "      <td>0.032008</td>\n",
       "      <td>0.011434</td>\n",
       "      <td>0.009388</td>\n",
       "      <td>0.009054</td>\n",
       "      <td>0.007191</td>\n",
       "      <td>0.005067</td>\n",
       "      <td>0.006898</td>\n",
       "      <td></td>\n",
       "      <td></td>\n",
       "      <td></td>\n",
       "      <td></td>\n",
       "    </tr>\n",
       "    <tr>\n",
       "      <th>2017-11</th>\n",
       "      <td>0.277466</td>\n",
       "      <td>0.02149</td>\n",
       "      <td>0.010742</td>\n",
       "      <td>0.017491</td>\n",
       "      <td>0.007967</td>\n",
       "      <td>0.0029</td>\n",
       "      <td>0.006186</td>\n",
       "      <td></td>\n",
       "      <td></td>\n",
       "      <td></td>\n",
       "      <td></td>\n",
       "      <td></td>\n",
       "    </tr>\n",
       "    <tr>\n",
       "      <th>2017-12</th>\n",
       "      <td>0.271007</td>\n",
       "      <td>0.014892</td>\n",
       "      <td>0.052912</td>\n",
       "      <td>0.06093</td>\n",
       "      <td>0.017898</td>\n",
       "      <td>0.019335</td>\n",
       "      <td></td>\n",
       "      <td></td>\n",
       "      <td></td>\n",
       "      <td></td>\n",
       "      <td></td>\n",
       "      <td></td>\n",
       "    </tr>\n",
       "    <tr>\n",
       "      <th>2018-01</th>\n",
       "      <td>0.208086</td>\n",
       "      <td>0.014831</td>\n",
       "      <td>0.01531</td>\n",
       "      <td>0.007184</td>\n",
       "      <td>0.003155</td>\n",
       "      <td></td>\n",
       "      <td></td>\n",
       "      <td></td>\n",
       "      <td></td>\n",
       "      <td></td>\n",
       "      <td></td>\n",
       "      <td></td>\n",
       "    </tr>\n",
       "    <tr>\n",
       "      <th>2018-02</th>\n",
       "      <td>0.231903</td>\n",
       "      <td>0.015524</td>\n",
       "      <td>0.00438</td>\n",
       "      <td>0.004136</td>\n",
       "      <td></td>\n",
       "      <td></td>\n",
       "      <td></td>\n",
       "      <td></td>\n",
       "      <td></td>\n",
       "      <td></td>\n",
       "      <td></td>\n",
       "      <td></td>\n",
       "    </tr>\n",
       "    <tr>\n",
       "      <th>2018-03</th>\n",
       "      <td>0.281035</td>\n",
       "      <td>0.017476</td>\n",
       "      <td>0.018327</td>\n",
       "      <td></td>\n",
       "      <td></td>\n",
       "      <td></td>\n",
       "      <td></td>\n",
       "      <td></td>\n",
       "      <td></td>\n",
       "      <td></td>\n",
       "      <td></td>\n",
       "      <td></td>\n",
       "    </tr>\n",
       "    <tr>\n",
       "      <th>2018-04</th>\n",
       "      <td>0.237797</td>\n",
       "      <td>0.027141</td>\n",
       "      <td></td>\n",
       "      <td></td>\n",
       "      <td></td>\n",
       "      <td></td>\n",
       "      <td></td>\n",
       "      <td></td>\n",
       "      <td></td>\n",
       "      <td></td>\n",
       "      <td></td>\n",
       "      <td></td>\n",
       "    </tr>\n",
       "    <tr>\n",
       "      <th>2018-05</th>\n",
       "      <td>0.313301</td>\n",
       "      <td></td>\n",
       "      <td></td>\n",
       "      <td></td>\n",
       "      <td></td>\n",
       "      <td></td>\n",
       "      <td></td>\n",
       "      <td></td>\n",
       "      <td></td>\n",
       "      <td></td>\n",
       "      <td></td>\n",
       "      <td></td>\n",
       "    </tr>\n",
       "  </tbody>\n",
       "</table>\n",
       "</div>"
      ],
      "text/plain": [
       "age                0         1         2         3         4         5   \\\n",
       "Month_first                                                               \n",
       "2017-06      0.265265   0.02725  0.024572  0.053603  0.057413  0.041297   \n",
       "2017-07      0.316811   0.01767  0.032868  0.018922  0.009319  0.008226   \n",
       "2017-08      0.244373   0.02186  0.021234  0.018121  0.022881  0.013132   \n",
       "2017-09      0.298916  0.059184  0.027587  0.210545  0.021212  0.034267   \n",
       "2017-10      0.298933  0.032008  0.011434  0.009388  0.009054  0.007191   \n",
       "2017-11      0.277466   0.02149  0.010742  0.017491  0.007967    0.0029   \n",
       "2017-12      0.271007  0.014892  0.052912   0.06093  0.017898  0.019335   \n",
       "2018-01      0.208086  0.014831   0.01531  0.007184  0.003155             \n",
       "2018-02      0.231903  0.015524   0.00438  0.004136                       \n",
       "2018-03      0.281035  0.017476  0.018327                                 \n",
       "2018-04      0.237797  0.027141                                           \n",
       "2018-05      0.313301                                                     \n",
       "\n",
       "age                6         7         8         9         10        11  \n",
       "Month_first                                                              \n",
       "2017-06      0.053365  0.032655  0.031062  0.034014  0.032075  0.014422  \n",
       "2017-07      0.006336  0.007476  0.008499  0.007756  0.008206            \n",
       "2017-08      0.009757  0.018757  0.013533  0.008706                      \n",
       "2017-09      0.037155  0.012876  0.009744                                \n",
       "2017-10      0.005067  0.006898                                          \n",
       "2017-11      0.006186                                                    \n",
       "2017-12                                                                  \n",
       "2018-01                                                                  \n",
       "2018-02                                                                  \n",
       "2018-03                                                                  \n",
       "2018-04                                                                  \n",
       "2018-05                                                                  "
      ]
     },
     "execution_count": 49,
     "metadata": {},
     "output_type": "execute_result"
    }
   ],
   "source": [
    "report_['romi'] = report_['ltv'] / report_['cac']\n",
    "output_ = report_.pivot_table(index= 'Month_first', columns= 'age', values= 'romi', aggfunc= 'mean')\n",
    "\n",
    "output_.cumsum(axis=1).round(2)\n",
    "output_.fillna('')"
   ]
  },
  {
   "cell_type": "code",
   "execution_count": 55,
   "metadata": {},
   "outputs": [
    {
     "data": {
      "image/png": "[encoded data removed]",
      "text/plain": [
       "<Figure size 1000x600 with 2 Axes>"
      ]
     },
     "metadata": {},
     "output_type": "display_data"
    }
   ],
   "source": [
    "plt.figure(figsize=(10, 6))\n",
    "sns.heatmap(output_, annot=True, cmap='coolwarm', cbar=True)\n",
    "plt.title('Mapa de Calor Output_')\n",
    "plt.show()"
   ]
  },
  {
   "cell_type": "code",
   "execution_count": 50,
   "metadata": {},
   "outputs": [
    {
     "data": {
      "text/plain": [
       "age\n",
       "0     0.270408\n",
       "1     0.290992\n",
       "2     0.315535\n",
       "3     0.359870\n",
       "4     0.391473\n",
       "5     0.429938\n",
       "6     0.448410\n",
       "7     0.484976\n",
       "8     0.526936\n",
       "9     0.482244\n",
       "10    0.547329\n",
       "11    0.666991\n",
       "dtype: float64"
      ]
     },
     "execution_count": 50,
     "metadata": {},
     "output_type": "execute_result"
    }
   ],
   "source": [
    "output_.cumsum(axis=1).mean(axis=0)"
   ]
  },
  {
   "cell_type": "markdown",
   "metadata": {},
   "source": [
    "Por lo visto ninguna de las cohortes muestran una compensacion de lo invertido, si va incrementando el valor mes con mes pero podemos determinar que durante todo este periodo no hubo ningun retorno de inversion. "
   ]
  },
  {
   "cell_type": "markdown",
   "metadata": {},
   "source": [
    "# Paso 3"
   ]
  },
  {
   "cell_type": "markdown",
   "metadata": {},
   "source": [
    "Conclusiones:"
   ]
  },
  {
   "cell_type": "markdown",
   "metadata": {
    "scrolled": false
   },
   "source": [
    "Tras el analisis de los datos proporcionados podemos decir que la compañia tiene áreas de oportunidad en lo que respecta al destino de sus inversiones.\n",
    "\n",
    "En el periodo estudiado pudimos ver una gran inclinacion a invertir mayormente en la fuente numero 3, teniendo una gran diferencia comparado al resto de las fuentes. Normalmente se consideraria buena inversion el asignar la mayor cantidad de inversion a la fuente que trajera mejores resultados, que en este caso viene siendo la captacion de clientes, pero la fuente 3 fue por mucho la fuente mas costosa por cliente captado, en contraste con las mas bajas la 10 y 9 con costos sumamente bajos comparado con la fuente 3. Aunque el hecho de que el resto de las fuentes tengan costos de captacion de clientes mas baja, es dificil deducir que realmente la cantidad de clientes nuevos sea proporcional al costo total por fuente.\n",
    "\n",
    "Una recomendacion para la esta situacion es una mayor distribucion de costos a lo largo de todas las fuentes listadas. Con un informe detallado basandonos en parametros iniciales iguales, se puede llegar a una conclusion muchisimo mas fidedigna de que fuente se deberia de invertir mas para que el retorno de inversion se consiga de mejor manera."
   ]
  },
  {
   "cell_type": "code",
   "execution_count": null,
   "metadata": {},
   "outputs": [],
   "source": []
  }
 ],
 "metadata": {
  "ExecuteTimeLog": [
   {
    "duration": 507,
    "start_time": "2024-07-17T03:58:55.783Z"
   },
   {
    "duration": 738,
    "start_time": "2024-07-17T03:58:57.531Z"
   },
   {
    "duration": 83,
    "start_time": "2024-07-17T03:59:43.422Z"
   },
   {
    "duration": 85,
    "start_time": "2024-07-17T03:59:54.138Z"
   },
   {
    "duration": 309,
    "start_time": "2024-07-18T04:20:01.508Z"
   },
   {
    "duration": 476,
    "start_time": "2024-07-18T04:20:11.220Z"
   },
   {
    "duration": 764,
    "start_time": "2024-07-18T04:20:11.699Z"
   },
   {
    "duration": 79,
    "start_time": "2024-07-18T04:20:12.466Z"
   },
   {
    "duration": 19,
    "start_time": "2024-07-18T04:20:12.550Z"
   },
   {
    "duration": 11,
    "start_time": "2024-07-18T04:20:35.595Z"
   },
   {
    "duration": 11,
    "start_time": "2024-07-18T04:20:50.768Z"
   },
   {
    "duration": 223,
    "start_time": "2024-07-18T04:21:47.540Z"
   },
   {
    "duration": 490,
    "start_time": "2024-07-18T04:22:09.121Z"
   },
   {
    "duration": 734,
    "start_time": "2024-07-18T04:22:09.616Z"
   },
   {
    "duration": 94,
    "start_time": "2024-07-18T04:22:10.353Z"
   },
   {
    "duration": 257,
    "start_time": "2024-07-18T04:22:10.451Z"
   },
   {
    "duration": 24,
    "start_time": "2024-07-18T04:22:10.712Z"
   },
   {
    "duration": 12,
    "start_time": "2024-07-18T04:22:10.739Z"
   },
   {
    "duration": 10,
    "start_time": "2024-07-18T04:22:10.755Z"
   },
   {
    "duration": 5060,
    "start_time": "2024-07-18T04:59:43.259Z"
   },
   {
    "duration": 629,
    "start_time": "2024-07-18T04:59:48.327Z"
   },
   {
    "duration": 84,
    "start_time": "2024-07-18T04:59:48.959Z"
   },
   {
    "duration": 239,
    "start_time": "2024-07-18T04:59:49.046Z"
   },
   {
    "duration": 16,
    "start_time": "2024-07-18T04:59:49.289Z"
   },
   {
    "duration": 23,
    "start_time": "2024-07-18T04:59:49.307Z"
   },
   {
    "duration": 11,
    "start_time": "2024-07-18T04:59:49.334Z"
   },
   {
    "duration": 298,
    "start_time": "2024-07-18T04:59:49.348Z"
   },
   {
    "duration": 167,
    "start_time": "2024-07-18T04:59:49.649Z"
   },
   {
    "duration": 150,
    "start_time": "2024-07-18T04:59:49.822Z"
   },
   {
    "duration": 191,
    "start_time": "2024-07-18T04:59:49.976Z"
   },
   {
    "duration": 11,
    "start_time": "2024-07-18T04:59:50.170Z"
   },
   {
    "duration": 503,
    "start_time": "2024-07-18T04:59:50.184Z"
   },
   {
    "duration": 358,
    "start_time": "2024-07-18T04:59:50.692Z"
   },
   {
    "duration": 364,
    "start_time": "2024-07-18T05:01:21.396Z"
   },
   {
    "duration": 196,
    "start_time": "2024-07-18T05:02:55.238Z"
   },
   {
    "duration": 1678,
    "start_time": "2024-07-18T05:04:02.938Z"
   },
   {
    "duration": 270,
    "start_time": "2024-07-18T05:04:55.011Z"
   },
   {
    "duration": 271,
    "start_time": "2024-07-18T05:07:07.710Z"
   },
   {
    "duration": 5149,
    "start_time": "2024-07-19T02:04:34.743Z"
   },
   {
    "duration": 833,
    "start_time": "2024-07-19T02:04:39.896Z"
   },
   {
    "duration": 84,
    "start_time": "2024-07-19T02:04:40.732Z"
   },
   {
    "duration": 260,
    "start_time": "2024-07-19T02:04:40.819Z"
   },
   {
    "duration": 20,
    "start_time": "2024-07-19T02:04:41.085Z"
   },
   {
    "duration": 28,
    "start_time": "2024-07-19T02:04:41.108Z"
   },
   {
    "duration": 14,
    "start_time": "2024-07-19T02:04:41.139Z"
   },
   {
    "duration": 367,
    "start_time": "2024-07-19T02:04:41.156Z"
   },
   {
    "duration": 163,
    "start_time": "2024-07-19T02:04:41.526Z"
   },
   {
    "duration": 158,
    "start_time": "2024-07-19T02:04:41.692Z"
   },
   {
    "duration": 200,
    "start_time": "2024-07-19T02:04:41.854Z"
   },
   {
    "duration": 12,
    "start_time": "2024-07-19T02:04:42.059Z"
   },
   {
    "duration": 242,
    "start_time": "2024-07-19T02:04:42.074Z"
   },
   {
    "duration": 380,
    "start_time": "2024-07-19T02:04:42.335Z"
   },
   {
    "duration": 339,
    "start_time": "2024-07-19T02:04:42.721Z"
   },
   {
    "duration": 781,
    "start_time": "2024-07-19T02:04:48.916Z"
   },
   {
    "duration": 377,
    "start_time": "2024-07-19T02:05:16.727Z"
   },
   {
    "duration": 328,
    "start_time": "2024-07-19T02:05:31.866Z"
   },
   {
    "duration": 332,
    "start_time": "2024-07-19T02:05:41.024Z"
   },
   {
    "duration": 326,
    "start_time": "2024-07-19T02:27:35.806Z"
   },
   {
    "duration": 1225,
    "start_time": "2024-07-19T02:27:55.857Z"
   },
   {
    "duration": 641,
    "start_time": "2024-07-19T02:27:57.086Z"
   },
   {
    "duration": 87,
    "start_time": "2024-07-19T02:27:57.729Z"
   },
   {
    "duration": 238,
    "start_time": "2024-07-19T02:27:57.832Z"
   },
   {
    "duration": 16,
    "start_time": "2024-07-19T02:27:58.075Z"
   },
   {
    "duration": 11,
    "start_time": "2024-07-19T02:27:58.096Z"
   },
   {
    "duration": 10,
    "start_time": "2024-07-19T02:27:58.132Z"
   },
   {
    "duration": 293,
    "start_time": "2024-07-19T02:27:58.145Z"
   },
   {
    "duration": 164,
    "start_time": "2024-07-19T02:27:58.440Z"
   },
   {
    "duration": 138,
    "start_time": "2024-07-19T02:27:58.607Z"
   },
   {
    "duration": 196,
    "start_time": "2024-07-19T02:27:58.749Z"
   },
   {
    "duration": 12,
    "start_time": "2024-07-19T02:27:58.948Z"
   },
   {
    "duration": 195,
    "start_time": "2024-07-19T02:27:58.962Z"
   },
   {
    "duration": 292,
    "start_time": "2024-07-19T02:27:59.162Z"
   },
   {
    "duration": 742,
    "start_time": "2024-07-19T02:27:59.457Z"
   },
   {
    "duration": 342,
    "start_time": "2024-07-19T02:29:09.702Z"
   },
   {
    "duration": 310,
    "start_time": "2024-07-19T02:34:11.463Z"
   },
   {
    "duration": 278,
    "start_time": "2024-07-19T02:35:00.744Z"
   },
   {
    "duration": 265,
    "start_time": "2024-07-19T02:35:17.108Z"
   },
   {
    "duration": 2076,
    "start_time": "2024-07-19T02:35:59.353Z"
   },
   {
    "duration": 399,
    "start_time": "2024-07-19T05:32:30.227Z"
   },
   {
    "duration": 309,
    "start_time": "2024-07-19T05:32:50.797Z"
   },
   {
    "duration": 0,
    "start_time": "2024-07-19T05:32:51.109Z"
   },
   {
    "duration": 40,
    "start_time": "2024-07-19T05:33:28.815Z"
   },
   {
    "duration": 1362,
    "start_time": "2024-07-19T05:33:35.526Z"
   },
   {
    "duration": 746,
    "start_time": "2024-07-19T05:33:36.893Z"
   },
   {
    "duration": 115,
    "start_time": "2024-07-19T05:33:37.642Z"
   },
   {
    "duration": 245,
    "start_time": "2024-07-19T05:33:37.761Z"
   },
   {
    "duration": 28,
    "start_time": "2024-07-19T05:33:38.012Z"
   },
   {
    "duration": 12,
    "start_time": "2024-07-19T05:33:38.044Z"
   },
   {
    "duration": 11,
    "start_time": "2024-07-19T05:33:38.060Z"
   },
   {
    "duration": 334,
    "start_time": "2024-07-19T05:33:38.074Z"
   },
   {
    "duration": 329,
    "start_time": "2024-07-19T05:33:38.412Z"
   },
   {
    "duration": 149,
    "start_time": "2024-07-19T05:33:38.747Z"
   },
   {
    "duration": 472,
    "start_time": "2024-07-19T05:33:38.902Z"
   },
   {
    "duration": 0,
    "start_time": "2024-07-19T05:33:39.378Z"
   },
   {
    "duration": 0,
    "start_time": "2024-07-19T05:33:39.380Z"
   },
   {
    "duration": 0,
    "start_time": "2024-07-19T05:33:39.382Z"
   },
   {
    "duration": 0,
    "start_time": "2024-07-19T05:33:39.384Z"
   },
   {
    "duration": 1,
    "start_time": "2024-07-19T05:33:39.389Z"
   },
   {
    "duration": 0,
    "start_time": "2024-07-19T05:33:39.393Z"
   },
   {
    "duration": 0,
    "start_time": "2024-07-19T05:33:39.395Z"
   },
   {
    "duration": 6,
    "start_time": "2024-07-19T05:35:24.600Z"
   },
   {
    "duration": 39,
    "start_time": "2024-07-19T05:35:25.389Z"
   },
   {
    "duration": 26,
    "start_time": "2024-07-19T05:35:46.569Z"
   },
   {
    "duration": 47,
    "start_time": "2024-07-19T05:35:47.140Z"
   },
   {
    "duration": 1320,
    "start_time": "2024-07-19T05:36:23.825Z"
   },
   {
    "duration": 693,
    "start_time": "2024-07-19T05:36:25.149Z"
   },
   {
    "duration": 109,
    "start_time": "2024-07-19T05:36:25.845Z"
   },
   {
    "duration": 272,
    "start_time": "2024-07-19T05:36:25.957Z"
   },
   {
    "duration": 18,
    "start_time": "2024-07-19T05:36:26.235Z"
   },
   {
    "duration": 12,
    "start_time": "2024-07-19T05:36:26.256Z"
   },
   {
    "duration": 10,
    "start_time": "2024-07-19T05:36:26.272Z"
   },
   {
    "duration": 338,
    "start_time": "2024-07-19T05:36:26.286Z"
   },
   {
    "duration": 325,
    "start_time": "2024-07-19T05:36:26.632Z"
   },
   {
    "duration": 151,
    "start_time": "2024-07-19T05:36:26.961Z"
   },
   {
    "duration": 5,
    "start_time": "2024-07-19T05:36:27.115Z"
   },
   {
    "duration": 301,
    "start_time": "2024-07-19T05:36:27.134Z"
   },
   {
    "duration": 168,
    "start_time": "2024-07-19T05:36:27.439Z"
   },
   {
    "duration": 199,
    "start_time": "2024-07-19T05:36:27.613Z"
   },
   {
    "duration": 25,
    "start_time": "2024-07-19T05:36:27.815Z"
   },
   {
    "duration": 206,
    "start_time": "2024-07-19T05:36:27.843Z"
   },
   {
    "duration": 365,
    "start_time": "2024-07-19T05:36:28.052Z"
   },
   {
    "duration": 804,
    "start_time": "2024-07-19T05:36:28.421Z"
   },
   {
    "duration": 2124,
    "start_time": "2024-07-19T05:38:03.771Z"
   },
   {
    "duration": 1266,
    "start_time": "2024-07-19T05:39:38.421Z"
   },
   {
    "duration": 654,
    "start_time": "2024-07-19T05:39:39.691Z"
   },
   {
    "duration": 88,
    "start_time": "2024-07-19T05:39:40.347Z"
   },
   {
    "duration": 234,
    "start_time": "2024-07-19T05:39:40.438Z"
   },
   {
    "duration": 15,
    "start_time": "2024-07-19T05:39:40.677Z"
   },
   {
    "duration": 10,
    "start_time": "2024-07-19T05:39:40.695Z"
   },
   {
    "duration": 11,
    "start_time": "2024-07-19T05:39:40.733Z"
   },
   {
    "duration": 298,
    "start_time": "2024-07-19T05:39:40.746Z"
   },
   {
    "duration": 335,
    "start_time": "2024-07-19T05:39:41.046Z"
   },
   {
    "duration": 144,
    "start_time": "2024-07-19T05:39:41.384Z"
   },
   {
    "duration": 11,
    "start_time": "2024-07-19T05:39:41.535Z"
   },
   {
    "duration": 287,
    "start_time": "2024-07-19T05:39:41.549Z"
   },
   {
    "duration": 138,
    "start_time": "2024-07-19T05:39:41.840Z"
   },
   {
    "duration": 5,
    "start_time": "2024-07-19T05:39:41.983Z"
   },
   {
    "duration": 351,
    "start_time": "2024-07-19T05:39:41.991Z"
   },
   {
    "duration": 191,
    "start_time": "2024-07-19T05:39:42.346Z"
   },
   {
    "duration": 11,
    "start_time": "2024-07-19T05:39:42.540Z"
   },
   {
    "duration": 200,
    "start_time": "2024-07-19T05:39:42.554Z"
   },
   {
    "duration": 278,
    "start_time": "2024-07-19T05:39:42.757Z"
   },
   {
    "duration": 731,
    "start_time": "2024-07-19T05:39:43.038Z"
   },
   {
    "duration": 4916,
    "start_time": "2024-07-24T03:26:37.216Z"
   },
   {
    "duration": 735,
    "start_time": "2024-07-24T03:26:42.136Z"
   },
   {
    "duration": 86,
    "start_time": "2024-07-24T03:26:42.874Z"
   },
   {
    "duration": 268,
    "start_time": "2024-07-24T03:26:42.964Z"
   },
   {
    "duration": 16,
    "start_time": "2024-07-24T03:26:43.236Z"
   },
   {
    "duration": 12,
    "start_time": "2024-07-24T03:26:43.254Z"
   },
   {
    "duration": 11,
    "start_time": "2024-07-24T03:26:43.269Z"
   },
   {
    "duration": 293,
    "start_time": "2024-07-24T03:26:43.314Z"
   },
   {
    "duration": 348,
    "start_time": "2024-07-24T03:26:43.613Z"
   },
   {
    "duration": 139,
    "start_time": "2024-07-24T03:26:43.964Z"
   },
   {
    "duration": 8,
    "start_time": "2024-07-24T03:26:44.106Z"
   },
   {
    "duration": 294,
    "start_time": "2024-07-24T03:26:44.118Z"
   },
   {
    "duration": 143,
    "start_time": "2024-07-24T03:26:44.416Z"
   },
   {
    "duration": 5,
    "start_time": "2024-07-24T03:26:44.565Z"
   },
   {
    "duration": 286,
    "start_time": "2024-07-24T03:26:44.572Z"
   },
   {
    "duration": 193,
    "start_time": "2024-07-24T03:26:44.861Z"
   },
   {
    "duration": 14,
    "start_time": "2024-07-24T03:26:45.057Z"
   },
   {
    "duration": 195,
    "start_time": "2024-07-24T03:26:45.073Z"
   },
   {
    "duration": 299,
    "start_time": "2024-07-24T03:26:45.271Z"
   },
   {
    "duration": 749,
    "start_time": "2024-07-24T03:26:45.573Z"
   },
   {
    "duration": 1269,
    "start_time": "2024-07-24T03:34:40.034Z"
   },
   {
    "duration": 652,
    "start_time": "2024-07-24T03:34:41.307Z"
   },
   {
    "duration": 83,
    "start_time": "2024-07-24T03:34:41.963Z"
   },
   {
    "duration": 252,
    "start_time": "2024-07-24T03:34:42.048Z"
   },
   {
    "duration": 21,
    "start_time": "2024-07-24T03:34:42.305Z"
   },
   {
    "duration": 12,
    "start_time": "2024-07-24T03:34:42.329Z"
   },
   {
    "duration": 12,
    "start_time": "2024-07-24T03:34:42.345Z"
   },
   {
    "duration": 311,
    "start_time": "2024-07-24T03:34:42.362Z"
   },
   {
    "duration": 342,
    "start_time": "2024-07-24T03:34:42.675Z"
   },
   {
    "duration": 147,
    "start_time": "2024-07-24T03:34:43.026Z"
   },
   {
    "duration": 8,
    "start_time": "2024-07-24T03:34:43.176Z"
   },
   {
    "duration": 296,
    "start_time": "2024-07-24T03:34:43.187Z"
   },
   {
    "duration": 149,
    "start_time": "2024-07-24T03:34:43.487Z"
   },
   {
    "duration": 5,
    "start_time": "2024-07-24T03:34:43.641Z"
   },
   {
    "duration": 350,
    "start_time": "2024-07-24T03:34:43.650Z"
   },
   {
    "duration": 184,
    "start_time": "2024-07-24T03:34:44.003Z"
   },
   {
    "duration": 25,
    "start_time": "2024-07-24T03:34:44.190Z"
   },
   {
    "duration": 196,
    "start_time": "2024-07-24T03:34:44.218Z"
   },
   {
    "duration": 297,
    "start_time": "2024-07-24T03:34:44.418Z"
   },
   {
    "duration": 1250,
    "start_time": "2024-07-24T03:34:44.718Z"
   },
   {
    "duration": 0,
    "start_time": "2024-07-24T03:34:45.971Z"
   },
   {
    "duration": 0,
    "start_time": "2024-07-24T03:34:45.976Z"
   },
   {
    "duration": 0,
    "start_time": "2024-07-24T03:34:45.979Z"
   },
   {
    "duration": 0,
    "start_time": "2024-07-24T03:34:45.982Z"
   },
   {
    "duration": 0,
    "start_time": "2024-07-24T03:34:45.985Z"
   },
   {
    "duration": 0,
    "start_time": "2024-07-24T03:34:45.987Z"
   },
   {
    "duration": 0,
    "start_time": "2024-07-24T03:34:46.012Z"
   },
   {
    "duration": 0,
    "start_time": "2024-07-24T03:34:46.015Z"
   },
   {
    "duration": 0,
    "start_time": "2024-07-24T03:34:46.017Z"
   },
   {
    "duration": 1234,
    "start_time": "2024-07-24T04:45:26.324Z"
   },
   {
    "duration": 622,
    "start_time": "2024-07-24T04:45:27.562Z"
   },
   {
    "duration": 85,
    "start_time": "2024-07-24T04:45:28.187Z"
   },
   {
    "duration": 252,
    "start_time": "2024-07-24T04:45:28.276Z"
   },
   {
    "duration": 15,
    "start_time": "2024-07-24T04:45:28.532Z"
   },
   {
    "duration": 11,
    "start_time": "2024-07-24T04:45:28.550Z"
   },
   {
    "duration": 11,
    "start_time": "2024-07-24T04:45:28.564Z"
   },
   {
    "duration": 287,
    "start_time": "2024-07-24T04:45:28.613Z"
   },
   {
    "duration": 330,
    "start_time": "2024-07-24T04:45:28.903Z"
   },
   {
    "duration": 141,
    "start_time": "2024-07-24T04:45:29.236Z"
   },
   {
    "duration": 5,
    "start_time": "2024-07-24T04:45:29.380Z"
   },
   {
    "duration": 287,
    "start_time": "2024-07-24T04:45:29.388Z"
   },
   {
    "duration": 144,
    "start_time": "2024-07-24T04:45:29.678Z"
   },
   {
    "duration": 6,
    "start_time": "2024-07-24T04:45:29.827Z"
   },
   {
    "duration": 354,
    "start_time": "2024-07-24T04:45:29.836Z"
   },
   {
    "duration": 183,
    "start_time": "2024-07-24T04:45:30.194Z"
   },
   {
    "duration": 32,
    "start_time": "2024-07-24T04:45:30.380Z"
   },
   {
    "duration": 180,
    "start_time": "2024-07-24T04:45:30.415Z"
   },
   {
    "duration": 281,
    "start_time": "2024-07-24T04:45:30.598Z"
   },
   {
    "duration": 4,
    "start_time": "2024-07-24T04:45:30.883Z"
   },
   {
    "duration": 7,
    "start_time": "2024-07-24T04:45:30.911Z"
   },
   {
    "duration": 10,
    "start_time": "2024-07-24T04:45:30.921Z"
   },
   {
    "duration": 7,
    "start_time": "2024-07-24T04:45:30.934Z"
   },
   {
    "duration": 308,
    "start_time": "2024-07-24T04:45:30.944Z"
   },
   {
    "duration": 795,
    "start_time": "2024-07-24T04:45:31.254Z"
   },
   {
    "duration": 6,
    "start_time": "2024-07-24T04:47:57.091Z"
   },
   {
    "duration": 8,
    "start_time": "2024-07-24T04:49:35.037Z"
   },
   {
    "duration": 7,
    "start_time": "2024-07-24T04:49:41.671Z"
   },
   {
    "duration": 7,
    "start_time": "2024-07-24T04:50:12.853Z"
   },
   {
    "duration": 7,
    "start_time": "2024-07-24T04:50:30.279Z"
   },
   {
    "duration": 7,
    "start_time": "2024-07-24T05:16:40.785Z"
   },
   {
    "duration": 7,
    "start_time": "2024-07-24T05:17:00.008Z"
   },
   {
    "duration": 7,
    "start_time": "2024-07-24T05:17:06.978Z"
   },
   {
    "duration": 10,
    "start_time": "2024-07-24T05:25:23.134Z"
   },
   {
    "duration": 1369,
    "start_time": "2024-07-24T05:25:30.709Z"
   },
   {
    "duration": 688,
    "start_time": "2024-07-24T05:25:32.083Z"
   },
   {
    "duration": 92,
    "start_time": "2024-07-24T05:25:32.774Z"
   },
   {
    "duration": 270,
    "start_time": "2024-07-24T05:25:32.871Z"
   },
   {
    "duration": 16,
    "start_time": "2024-07-24T05:25:33.144Z"
   },
   {
    "duration": 14,
    "start_time": "2024-07-24T05:25:33.162Z"
   },
   {
    "duration": 37,
    "start_time": "2024-07-24T05:25:33.179Z"
   },
   {
    "duration": 300,
    "start_time": "2024-07-24T05:25:33.219Z"
   },
   {
    "duration": 364,
    "start_time": "2024-07-24T05:25:33.522Z"
   },
   {
    "duration": 154,
    "start_time": "2024-07-24T05:25:33.892Z"
   },
   {
    "duration": 5,
    "start_time": "2024-07-24T05:25:34.050Z"
   },
   {
    "duration": 300,
    "start_time": "2024-07-24T05:25:34.060Z"
   },
   {
    "duration": 144,
    "start_time": "2024-07-24T05:25:34.363Z"
   },
   {
    "duration": 5,
    "start_time": "2024-07-24T05:25:34.512Z"
   },
   {
    "duration": 339,
    "start_time": "2024-07-24T05:25:34.520Z"
   },
   {
    "duration": 199,
    "start_time": "2024-07-24T05:25:34.865Z"
   },
   {
    "duration": 11,
    "start_time": "2024-07-24T05:25:35.068Z"
   },
   {
    "duration": 202,
    "start_time": "2024-07-24T05:25:35.084Z"
   },
   {
    "duration": 292,
    "start_time": "2024-07-24T05:25:35.289Z"
   },
   {
    "duration": 3,
    "start_time": "2024-07-24T05:25:35.585Z"
   },
   {
    "duration": 23,
    "start_time": "2024-07-24T05:25:35.592Z"
   },
   {
    "duration": 9,
    "start_time": "2024-07-24T05:25:35.618Z"
   },
   {
    "duration": 8,
    "start_time": "2024-07-24T05:25:35.630Z"
   },
   {
    "duration": 313,
    "start_time": "2024-07-24T05:25:35.643Z"
   },
   {
    "duration": 769,
    "start_time": "2024-07-24T05:25:35.959Z"
   },
   {
    "duration": 6,
    "start_time": "2024-07-24T05:39:21.672Z"
   },
   {
    "duration": 737,
    "start_time": "2024-07-24T05:43:55.520Z"
   },
   {
    "duration": 5011,
    "start_time": "2024-07-25T06:53:27.704Z"
   },
   {
    "duration": 759,
    "start_time": "2024-07-25T06:53:32.719Z"
   },
   {
    "duration": 87,
    "start_time": "2024-07-25T06:53:33.482Z"
   },
   {
    "duration": 247,
    "start_time": "2024-07-25T06:53:33.577Z"
   },
   {
    "duration": 24,
    "start_time": "2024-07-25T06:53:33.826Z"
   },
   {
    "duration": 12,
    "start_time": "2024-07-25T06:53:33.853Z"
   },
   {
    "duration": 30,
    "start_time": "2024-07-25T06:53:33.868Z"
   },
   {
    "duration": 306,
    "start_time": "2024-07-25T06:53:33.901Z"
   },
   {
    "duration": 325,
    "start_time": "2024-07-25T06:53:34.210Z"
   },
   {
    "duration": 149,
    "start_time": "2024-07-25T06:53:34.541Z"
   },
   {
    "duration": 14,
    "start_time": "2024-07-25T06:53:34.695Z"
   },
   {
    "duration": 297,
    "start_time": "2024-07-25T06:53:34.718Z"
   },
   {
    "duration": 149,
    "start_time": "2024-07-25T06:53:35.018Z"
   },
   {
    "duration": 5,
    "start_time": "2024-07-25T06:53:35.170Z"
   },
   {
    "duration": 279,
    "start_time": "2024-07-25T06:53:35.192Z"
   },
   {
    "duration": 193,
    "start_time": "2024-07-25T06:53:35.474Z"
   },
   {
    "duration": 24,
    "start_time": "2024-07-25T06:53:35.670Z"
   },
   {
    "duration": 183,
    "start_time": "2024-07-25T06:53:35.697Z"
   },
   {
    "duration": 277,
    "start_time": "2024-07-25T06:53:35.891Z"
   },
   {
    "duration": 105,
    "start_time": "2024-07-25T06:53:36.173Z"
   },
   {
    "duration": 23,
    "start_time": "2024-07-25T06:53:36.281Z"
   },
   {
    "duration": 67,
    "start_time": "2024-07-25T06:53:36.306Z"
   },
   {
    "duration": 12,
    "start_time": "2024-07-25T06:53:36.391Z"
   },
   {
    "duration": 10,
    "start_time": "2024-07-25T06:53:36.406Z"
   },
   {
    "duration": 321,
    "start_time": "2024-07-25T06:53:36.418Z"
   },
   {
    "duration": 4,
    "start_time": "2024-07-25T06:53:36.742Z"
   },
   {
    "duration": 7,
    "start_time": "2024-07-25T06:53:36.751Z"
   },
   {
    "duration": 7,
    "start_time": "2024-07-25T06:53:36.790Z"
   },
   {
    "duration": 8,
    "start_time": "2024-07-25T06:53:36.800Z"
   },
   {
    "duration": 368,
    "start_time": "2024-07-25T06:53:36.811Z"
   },
   {
    "duration": 755,
    "start_time": "2024-07-25T06:53:37.190Z"
   },
   {
    "duration": 289,
    "start_time": "2024-07-25T06:55:13.357Z"
   },
   {
    "duration": 4846,
    "start_time": "2024-07-26T00:44:31.280Z"
   },
   {
    "duration": 720,
    "start_time": "2024-07-26T00:44:36.130Z"
   },
   {
    "duration": 80,
    "start_time": "2024-07-26T00:44:36.853Z"
   },
   {
    "duration": 245,
    "start_time": "2024-07-26T00:44:36.937Z"
   },
   {
    "duration": 27,
    "start_time": "2024-07-26T00:44:37.187Z"
   },
   {
    "duration": 12,
    "start_time": "2024-07-26T00:44:37.217Z"
   },
   {
    "duration": 11,
    "start_time": "2024-07-26T00:44:37.232Z"
   },
   {
    "duration": 306,
    "start_time": "2024-07-26T00:44:37.247Z"
   },
   {
    "duration": 331,
    "start_time": "2024-07-26T00:44:37.556Z"
   },
   {
    "duration": 154,
    "start_time": "2024-07-26T00:44:37.889Z"
   },
   {
    "duration": 5,
    "start_time": "2024-07-26T00:44:38.047Z"
   },
   {
    "duration": 294,
    "start_time": "2024-07-26T00:44:38.056Z"
   },
   {
    "duration": 143,
    "start_time": "2024-07-26T00:44:38.354Z"
   },
   {
    "duration": 5,
    "start_time": "2024-07-26T00:44:38.509Z"
   },
   {
    "duration": 280,
    "start_time": "2024-07-26T00:44:38.517Z"
   },
   {
    "duration": 189,
    "start_time": "2024-07-26T00:44:38.807Z"
   },
   {
    "duration": 13,
    "start_time": "2024-07-26T00:44:39.005Z"
   },
   {
    "duration": 197,
    "start_time": "2024-07-26T00:44:39.021Z"
   },
   {
    "duration": 292,
    "start_time": "2024-07-26T00:44:39.221Z"
   },
   {
    "duration": 112,
    "start_time": "2024-07-26T00:44:39.516Z"
   },
   {
    "duration": 18,
    "start_time": "2024-07-26T00:44:39.631Z"
   },
   {
    "duration": 74,
    "start_time": "2024-07-26T00:44:39.651Z"
   },
   {
    "duration": 9,
    "start_time": "2024-07-26T00:44:39.728Z"
   },
   {
    "duration": 10,
    "start_time": "2024-07-26T00:44:39.740Z"
   },
   {
    "duration": 326,
    "start_time": "2024-07-26T00:44:39.753Z"
   },
   {
    "duration": 4,
    "start_time": "2024-07-26T00:44:40.082Z"
   },
   {
    "duration": 7,
    "start_time": "2024-07-26T00:44:40.106Z"
   },
   {
    "duration": 8,
    "start_time": "2024-07-26T00:44:40.116Z"
   },
   {
    "duration": 8,
    "start_time": "2024-07-26T00:44:40.130Z"
   },
   {
    "duration": 363,
    "start_time": "2024-07-26T00:44:40.141Z"
   },
   {
    "duration": 419,
    "start_time": "2024-07-26T00:44:40.507Z"
   },
   {
    "duration": 0,
    "start_time": "2024-07-26T00:44:40.929Z"
   },
   {
    "duration": 0,
    "start_time": "2024-07-26T00:44:40.931Z"
   },
   {
    "duration": 0,
    "start_time": "2024-07-26T00:44:40.935Z"
   },
   {
    "duration": 0,
    "start_time": "2024-07-26T00:44:40.937Z"
   },
   {
    "duration": 761,
    "start_time": "2024-07-26T00:45:48.193Z"
   },
   {
    "duration": 27,
    "start_time": "2024-07-26T00:45:49.147Z"
   },
   {
    "duration": 83,
    "start_time": "2024-07-26T00:47:15.651Z"
   },
   {
    "duration": 242,
    "start_time": "2024-07-26T00:47:26.601Z"
   },
   {
    "duration": 43,
    "start_time": "2024-07-26T00:47:49.399Z"
   },
   {
    "duration": 19,
    "start_time": "2024-07-26T00:48:05.020Z"
   },
   {
    "duration": 25,
    "start_time": "2024-07-26T00:48:39.805Z"
   },
   {
    "duration": 18,
    "start_time": "2024-07-26T00:50:59.757Z"
   },
   {
    "duration": 10,
    "start_time": "2024-07-26T01:02:22.838Z"
   },
   {
    "duration": 83,
    "start_time": "2024-07-26T01:04:40.285Z"
   },
   {
    "duration": 44,
    "start_time": "2024-07-26T01:04:55.709Z"
   },
   {
    "duration": 32,
    "start_time": "2024-07-26T01:05:02.941Z"
   },
   {
    "duration": 12,
    "start_time": "2024-07-26T01:10:30.530Z"
   },
   {
    "duration": 19,
    "start_time": "2024-07-26T01:10:31.207Z"
   },
   {
    "duration": 8,
    "start_time": "2024-07-26T01:10:31.752Z"
   },
   {
    "duration": 163,
    "start_time": "2024-07-26T01:10:50.785Z"
   },
   {
    "duration": 31,
    "start_time": "2024-07-26T01:13:26.492Z"
   },
   {
    "duration": 10,
    "start_time": "2024-07-26T01:13:27.019Z"
   },
   {
    "duration": 16,
    "start_time": "2024-07-26T01:13:27.534Z"
   },
   {
    "duration": 560,
    "start_time": "2024-07-26T01:13:28.116Z"
   },
   {
    "duration": 21,
    "start_time": "2024-07-26T01:13:52.345Z"
   },
   {
    "duration": 29,
    "start_time": "2024-07-26T01:14:37.313Z"
   },
   {
    "duration": 137,
    "start_time": "2024-07-26T01:14:39.512Z"
   },
   {
    "duration": 118,
    "start_time": "2024-07-26T01:14:49.144Z"
   },
   {
    "duration": 118,
    "start_time": "2024-07-26T01:15:06.529Z"
   },
   {
    "duration": 51,
    "start_time": "2024-07-26T01:15:33.289Z"
   },
   {
    "duration": 1289,
    "start_time": "2024-07-26T01:16:02.558Z"
   },
   {
    "duration": 623,
    "start_time": "2024-07-26T01:16:03.852Z"
   },
   {
    "duration": 77,
    "start_time": "2024-07-26T01:16:04.479Z"
   },
   {
    "duration": 260,
    "start_time": "2024-07-26T01:16:04.559Z"
   },
   {
    "duration": 16,
    "start_time": "2024-07-26T01:16:04.823Z"
   },
   {
    "duration": 11,
    "start_time": "2024-07-26T01:16:04.842Z"
   },
   {
    "duration": 11,
    "start_time": "2024-07-26T01:16:04.856Z"
   },
   {
    "duration": 317,
    "start_time": "2024-07-26T01:16:04.870Z"
   },
   {
    "duration": 325,
    "start_time": "2024-07-26T01:16:05.190Z"
   },
   {
    "duration": 138,
    "start_time": "2024-07-26T01:16:05.518Z"
   },
   {
    "duration": 5,
    "start_time": "2024-07-26T01:16:05.659Z"
   },
   {
    "duration": 297,
    "start_time": "2024-07-26T01:16:05.668Z"
   },
   {
    "duration": 137,
    "start_time": "2024-07-26T01:16:05.969Z"
   },
   {
    "duration": 5,
    "start_time": "2024-07-26T01:16:06.112Z"
   },
   {
    "duration": 343,
    "start_time": "2024-07-26T01:16:06.120Z"
   },
   {
    "duration": 184,
    "start_time": "2024-07-26T01:16:06.466Z"
   },
   {
    "duration": 12,
    "start_time": "2024-07-26T01:16:06.653Z"
   },
   {
    "duration": 203,
    "start_time": "2024-07-26T01:16:06.668Z"
   },
   {
    "duration": 294,
    "start_time": "2024-07-26T01:16:06.874Z"
   },
   {
    "duration": 108,
    "start_time": "2024-07-26T01:16:07.171Z"
   },
   {
    "duration": 30,
    "start_time": "2024-07-26T01:16:07.282Z"
   },
   {
    "duration": 62,
    "start_time": "2024-07-26T01:16:07.314Z"
   },
   {
    "duration": 28,
    "start_time": "2024-07-26T01:16:07.379Z"
   },
   {
    "duration": 11,
    "start_time": "2024-07-26T01:16:07.409Z"
   },
   {
    "duration": 316,
    "start_time": "2024-07-26T01:16:07.422Z"
   },
   {
    "duration": 4,
    "start_time": "2024-07-26T01:16:07.741Z"
   },
   {
    "duration": 7,
    "start_time": "2024-07-26T01:16:07.748Z"
   },
   {
    "duration": 8,
    "start_time": "2024-07-26T01:16:07.759Z"
   },
   {
    "duration": 41,
    "start_time": "2024-07-26T01:16:07.769Z"
   },
   {
    "duration": 304,
    "start_time": "2024-07-26T01:16:07.814Z"
   },
   {
    "duration": 33,
    "start_time": "2024-07-26T01:16:08.121Z"
   },
   {
    "duration": 10,
    "start_time": "2024-07-26T01:16:08.157Z"
   },
   {
    "duration": 54,
    "start_time": "2024-07-26T01:16:08.170Z"
   },
   {
    "duration": 19,
    "start_time": "2024-07-26T01:16:08.228Z"
   },
   {
    "duration": 22,
    "start_time": "2024-07-26T01:16:08.250Z"
   },
   {
    "duration": 82,
    "start_time": "2024-07-26T01:16:08.275Z"
   },
   {
    "duration": 738,
    "start_time": "2024-07-26T01:16:08.359Z"
   },
   {
    "duration": 410,
    "start_time": "2024-07-26T01:16:25.205Z"
   },
   {
    "duration": 30,
    "start_time": "2024-07-26T01:18:11.112Z"
   },
   {
    "duration": 11,
    "start_time": "2024-07-26T01:18:22.949Z"
   },
   {
    "duration": 11,
    "start_time": "2024-07-26T01:46:28.241Z"
   },
   {
    "duration": 7,
    "start_time": "2024-07-26T01:46:49.548Z"
   },
   {
    "duration": 8,
    "start_time": "2024-07-26T01:48:29.273Z"
   },
   {
    "duration": 22,
    "start_time": "2024-07-26T01:51:52.565Z"
   },
   {
    "duration": 10,
    "start_time": "2024-07-26T01:52:08.639Z"
   },
   {
    "duration": 4,
    "start_time": "2024-07-26T01:52:09.148Z"
   },
   {
    "duration": 9,
    "start_time": "2024-07-26T01:52:33.565Z"
   },
   {
    "duration": 10,
    "start_time": "2024-07-26T01:52:34.749Z"
   },
   {
    "duration": 293,
    "start_time": "2024-07-26T01:57:48.698Z"
   },
   {
    "duration": 38925,
    "start_time": "2024-07-26T02:01:00.029Z"
   },
   {
    "duration": 12,
    "start_time": "2024-07-26T02:15:30.463Z"
   },
   {
    "duration": 10,
    "start_time": "2024-07-26T02:15:31.462Z"
   },
   {
    "duration": 1559,
    "start_time": "2024-07-26T02:15:32.569Z"
   },
   {
    "duration": 11,
    "start_time": "2024-07-26T02:16:45.032Z"
   },
   {
    "duration": 8,
    "start_time": "2024-07-26T02:16:45.497Z"
   },
   {
    "duration": 309,
    "start_time": "2024-07-26T02:16:46.484Z"
   },
   {
    "duration": 4899,
    "start_time": "2024-07-28T01:30:36.936Z"
   },
   {
    "duration": 726,
    "start_time": "2024-07-28T01:30:41.839Z"
   },
   {
    "duration": 80,
    "start_time": "2024-07-28T01:30:42.568Z"
   },
   {
    "duration": 246,
    "start_time": "2024-07-28T01:30:42.651Z"
   },
   {
    "duration": 16,
    "start_time": "2024-07-28T01:30:42.902Z"
   },
   {
    "duration": 12,
    "start_time": "2024-07-28T01:30:42.921Z"
   },
   {
    "duration": 33,
    "start_time": "2024-07-28T01:30:42.936Z"
   },
   {
    "duration": 300,
    "start_time": "2024-07-28T01:30:42.973Z"
   },
   {
    "duration": 332,
    "start_time": "2024-07-28T01:30:43.276Z"
   },
   {
    "duration": 141,
    "start_time": "2024-07-28T01:30:43.611Z"
   },
   {
    "duration": 14,
    "start_time": "2024-07-28T01:30:43.754Z"
   },
   {
    "duration": 291,
    "start_time": "2024-07-28T01:30:43.771Z"
   },
   {
    "duration": 141,
    "start_time": "2024-07-28T01:30:44.065Z"
   },
   {
    "duration": 7,
    "start_time": "2024-07-28T01:30:44.213Z"
   },
   {
    "duration": 284,
    "start_time": "2024-07-28T01:30:44.223Z"
   },
   {
    "duration": 184,
    "start_time": "2024-07-28T01:30:44.510Z"
   },
   {
    "duration": 11,
    "start_time": "2024-07-28T01:30:44.696Z"
   },
   {
    "duration": 200,
    "start_time": "2024-07-28T01:30:44.711Z"
   },
   {
    "duration": 297,
    "start_time": "2024-07-28T01:30:44.914Z"
   },
   {
    "duration": 109,
    "start_time": "2024-07-28T01:30:45.215Z"
   },
   {
    "duration": 17,
    "start_time": "2024-07-28T01:30:45.327Z"
   },
   {
    "duration": 77,
    "start_time": "2024-07-28T01:30:45.347Z"
   },
   {
    "duration": 8,
    "start_time": "2024-07-28T01:30:45.428Z"
   },
   {
    "duration": 34,
    "start_time": "2024-07-28T01:30:45.439Z"
   },
   {
    "duration": 321,
    "start_time": "2024-07-28T01:30:45.478Z"
   },
   {
    "duration": 4,
    "start_time": "2024-07-28T01:30:45.803Z"
   },
   {
    "duration": 7,
    "start_time": "2024-07-28T01:30:45.810Z"
   },
   {
    "duration": 8,
    "start_time": "2024-07-28T01:30:45.820Z"
   },
   {
    "duration": 7,
    "start_time": "2024-07-28T01:30:45.867Z"
   },
   {
    "duration": 353,
    "start_time": "2024-07-28T01:30:45.877Z"
   },
   {
    "duration": 11,
    "start_time": "2024-07-28T01:30:46.233Z"
   },
   {
    "duration": 22,
    "start_time": "2024-07-28T01:30:46.246Z"
   },
   {
    "duration": 13,
    "start_time": "2024-07-28T01:30:46.271Z"
   },
   {
    "duration": 8,
    "start_time": "2024-07-28T01:30:46.287Z"
   },
   {
    "duration": 363,
    "start_time": "2024-07-28T01:30:46.298Z"
   },
   {
    "duration": 767,
    "start_time": "2024-07-28T01:30:46.669Z"
   },
   {
    "duration": 23,
    "start_time": "2024-07-28T01:42:43.172Z"
   },
   {
    "duration": 1231,
    "start_time": "2024-07-28T01:43:21.851Z"
   },
   {
    "duration": 16,
    "start_time": "2024-07-28T01:43:37.370Z"
   },
   {
    "duration": 78,
    "start_time": "2024-07-28T02:19:54.113Z"
   },
   {
    "duration": 1242,
    "start_time": "2024-07-28T02:20:27.938Z"
   },
   {
    "duration": 4954,
    "start_time": "2024-07-28T20:39:33.521Z"
   },
   {
    "duration": 745,
    "start_time": "2024-07-28T20:39:38.479Z"
   },
   {
    "duration": 78,
    "start_time": "2024-07-28T20:39:39.227Z"
   },
   {
    "duration": 247,
    "start_time": "2024-07-28T20:39:39.308Z"
   },
   {
    "duration": 23,
    "start_time": "2024-07-28T20:39:39.561Z"
   },
   {
    "duration": 10,
    "start_time": "2024-07-28T20:39:39.587Z"
   },
   {
    "duration": 11,
    "start_time": "2024-07-28T20:39:39.601Z"
   },
   {
    "duration": 314,
    "start_time": "2024-07-28T20:39:39.615Z"
   },
   {
    "duration": 341,
    "start_time": "2024-07-28T20:39:39.931Z"
   },
   {
    "duration": 142,
    "start_time": "2024-07-28T20:39:40.276Z"
   },
   {
    "duration": 5,
    "start_time": "2024-07-28T20:39:40.422Z"
   },
   {
    "duration": 295,
    "start_time": "2024-07-28T20:39:40.431Z"
   },
   {
    "duration": 138,
    "start_time": "2024-07-28T20:39:40.729Z"
   },
   {
    "duration": 5,
    "start_time": "2024-07-28T20:39:40.874Z"
   },
   {
    "duration": 275,
    "start_time": "2024-07-28T20:39:40.882Z"
   },
   {
    "duration": 179,
    "start_time": "2024-07-28T20:39:41.167Z"
   },
   {
    "duration": 28,
    "start_time": "2024-07-28T20:39:41.349Z"
   },
   {
    "duration": 194,
    "start_time": "2024-07-28T20:39:41.380Z"
   },
   {
    "duration": 293,
    "start_time": "2024-07-28T20:39:41.577Z"
   },
   {
    "duration": 110,
    "start_time": "2024-07-28T20:39:41.874Z"
   },
   {
    "duration": 18,
    "start_time": "2024-07-28T20:39:41.987Z"
   },
   {
    "duration": 81,
    "start_time": "2024-07-28T20:39:42.008Z"
   },
   {
    "duration": 9,
    "start_time": "2024-07-28T20:39:42.092Z"
   },
   {
    "duration": 10,
    "start_time": "2024-07-28T20:39:42.103Z"
   },
   {
    "duration": 334,
    "start_time": "2024-07-28T20:39:42.116Z"
   },
   {
    "duration": 16,
    "start_time": "2024-07-28T20:39:42.453Z"
   },
   {
    "duration": 7,
    "start_time": "2024-07-28T20:39:42.473Z"
   },
   {
    "duration": 8,
    "start_time": "2024-07-28T20:39:42.484Z"
   },
   {
    "duration": 7,
    "start_time": "2024-07-28T20:39:42.494Z"
   },
   {
    "duration": 383,
    "start_time": "2024-07-28T20:39:42.504Z"
   },
   {
    "duration": 14,
    "start_time": "2024-07-28T20:39:42.890Z"
   },
   {
    "duration": 1459,
    "start_time": "2024-07-28T20:39:42.908Z"
   },
   {
    "duration": 0,
    "start_time": "2024-07-28T20:39:44.371Z"
   },
   {
    "duration": 0,
    "start_time": "2024-07-28T20:39:44.372Z"
   },
   {
    "duration": 0,
    "start_time": "2024-07-28T20:39:44.375Z"
   },
   {
    "duration": 0,
    "start_time": "2024-07-28T20:39:44.377Z"
   },
   {
    "duration": 0,
    "start_time": "2024-07-28T20:39:44.379Z"
   },
   {
    "duration": 0,
    "start_time": "2024-07-28T20:39:44.381Z"
   },
   {
    "duration": 0,
    "start_time": "2024-07-28T20:39:44.383Z"
   },
   {
    "duration": 24,
    "start_time": "2024-07-28T22:02:43.750Z"
   },
   {
    "duration": 9,
    "start_time": "2024-07-28T22:03:04.850Z"
   },
   {
    "duration": 4,
    "start_time": "2024-07-28T22:03:49.865Z"
   },
   {
    "duration": 25,
    "start_time": "2024-07-28T22:52:47.293Z"
   },
   {
    "duration": 1258,
    "start_time": "2024-07-28T22:53:06.425Z"
   },
   {
    "duration": 713,
    "start_time": "2024-07-28T22:53:07.687Z"
   },
   {
    "duration": 92,
    "start_time": "2024-07-28T22:53:08.404Z"
   },
   {
    "duration": 248,
    "start_time": "2024-07-28T22:53:08.502Z"
   },
   {
    "duration": 26,
    "start_time": "2024-07-28T22:53:08.752Z"
   },
   {
    "duration": 11,
    "start_time": "2024-07-28T22:53:08.782Z"
   },
   {
    "duration": 11,
    "start_time": "2024-07-28T22:53:08.796Z"
   },
   {
    "duration": 307,
    "start_time": "2024-07-28T22:53:08.810Z"
   },
   {
    "duration": 328,
    "start_time": "2024-07-28T22:53:09.120Z"
   },
   {
    "duration": 137,
    "start_time": "2024-07-28T22:53:09.454Z"
   },
   {
    "duration": 5,
    "start_time": "2024-07-28T22:53:09.594Z"
   },
   {
    "duration": 292,
    "start_time": "2024-07-28T22:53:09.601Z"
   },
   {
    "duration": 140,
    "start_time": "2024-07-28T22:53:09.896Z"
   },
   {
    "duration": 5,
    "start_time": "2024-07-28T22:53:10.038Z"
   },
   {
    "duration": 338,
    "start_time": "2024-07-28T22:53:10.047Z"
   },
   {
    "duration": 187,
    "start_time": "2024-07-28T22:53:10.388Z"
   },
   {
    "duration": 22,
    "start_time": "2024-07-28T22:53:10.577Z"
   },
   {
    "duration": 193,
    "start_time": "2024-07-28T22:53:10.603Z"
   },
   {
    "duration": 290,
    "start_time": "2024-07-28T22:53:10.799Z"
   },
   {
    "duration": 107,
    "start_time": "2024-07-28T22:53:11.092Z"
   },
   {
    "duration": 18,
    "start_time": "2024-07-28T22:53:11.202Z"
   },
   {
    "duration": 77,
    "start_time": "2024-07-28T22:53:11.222Z"
   },
   {
    "duration": 8,
    "start_time": "2024-07-28T22:53:11.302Z"
   },
   {
    "duration": 9,
    "start_time": "2024-07-28T22:53:11.313Z"
   },
   {
    "duration": 331,
    "start_time": "2024-07-28T22:53:11.325Z"
   },
   {
    "duration": 10,
    "start_time": "2024-07-28T22:53:11.659Z"
   },
   {
    "duration": 6,
    "start_time": "2024-07-28T22:53:11.673Z"
   },
   {
    "duration": 8,
    "start_time": "2024-07-28T22:53:11.687Z"
   },
   {
    "duration": 8,
    "start_time": "2024-07-28T22:53:11.698Z"
   },
   {
    "duration": 308,
    "start_time": "2024-07-28T22:53:11.708Z"
   },
   {
    "duration": 15,
    "start_time": "2024-07-28T22:53:12.020Z"
   },
   {
    "duration": 445,
    "start_time": "2024-07-28T22:53:12.038Z"
   },
   {
    "duration": 0,
    "start_time": "2024-07-28T22:53:12.486Z"
   },
   {
    "duration": 0,
    "start_time": "2024-07-28T22:53:12.488Z"
   },
   {
    "duration": 0,
    "start_time": "2024-07-28T22:53:12.490Z"
   },
   {
    "duration": 0,
    "start_time": "2024-07-28T22:53:12.492Z"
   },
   {
    "duration": 0,
    "start_time": "2024-07-28T22:53:12.494Z"
   },
   {
    "duration": 0,
    "start_time": "2024-07-28T22:53:12.496Z"
   },
   {
    "duration": 0,
    "start_time": "2024-07-28T22:53:12.498Z"
   },
   {
    "duration": 0,
    "start_time": "2024-07-28T22:53:12.501Z"
   },
   {
    "duration": 0,
    "start_time": "2024-07-28T22:53:12.503Z"
   },
   {
    "duration": 37,
    "start_time": "2024-07-28T22:54:23.658Z"
   },
   {
    "duration": 26,
    "start_time": "2024-07-28T22:54:30.714Z"
   },
   {
    "duration": 17,
    "start_time": "2024-07-28T22:54:43.719Z"
   },
   {
    "duration": 26,
    "start_time": "2024-07-28T22:54:47.357Z"
   },
   {
    "duration": 29,
    "start_time": "2024-07-28T22:54:48.365Z"
   },
   {
    "duration": 36,
    "start_time": "2024-07-28T22:55:16.519Z"
   },
   {
    "duration": 106,
    "start_time": "2024-07-28T22:55:30.820Z"
   },
   {
    "duration": 10,
    "start_time": "2024-07-28T22:55:32.813Z"
   },
   {
    "duration": 1313,
    "start_time": "2024-07-28T22:56:15.787Z"
   },
   {
    "duration": 665,
    "start_time": "2024-07-28T22:56:17.104Z"
   },
   {
    "duration": 106,
    "start_time": "2024-07-28T22:56:17.772Z"
   },
   {
    "duration": 266,
    "start_time": "2024-07-28T22:56:17.883Z"
   },
   {
    "duration": 25,
    "start_time": "2024-07-28T22:56:18.152Z"
   },
   {
    "duration": 11,
    "start_time": "2024-07-28T22:56:18.182Z"
   },
   {
    "duration": 11,
    "start_time": "2024-07-28T22:56:18.196Z"
   },
   {
    "duration": 314,
    "start_time": "2024-07-28T22:56:18.209Z"
   },
   {
    "duration": 343,
    "start_time": "2024-07-28T22:56:18.526Z"
   },
   {
    "duration": 157,
    "start_time": "2024-07-28T22:56:18.875Z"
   },
   {
    "duration": 4,
    "start_time": "2024-07-28T22:56:19.035Z"
   },
   {
    "duration": 297,
    "start_time": "2024-07-28T22:56:19.043Z"
   },
   {
    "duration": 141,
    "start_time": "2024-07-28T22:56:19.343Z"
   },
   {
    "duration": 5,
    "start_time": "2024-07-28T22:56:19.488Z"
   },
   {
    "duration": 348,
    "start_time": "2024-07-28T22:56:19.496Z"
   },
   {
    "duration": 194,
    "start_time": "2024-07-28T22:56:19.847Z"
   },
   {
    "duration": 28,
    "start_time": "2024-07-28T22:56:20.044Z"
   },
   {
    "duration": 193,
    "start_time": "2024-07-28T22:56:20.075Z"
   },
   {
    "duration": 279,
    "start_time": "2024-07-28T22:56:20.270Z"
   },
   {
    "duration": 103,
    "start_time": "2024-07-28T22:56:20.552Z"
   },
   {
    "duration": 22,
    "start_time": "2024-07-28T22:56:20.659Z"
   },
   {
    "duration": 62,
    "start_time": "2024-07-28T22:56:20.683Z"
   },
   {
    "duration": 26,
    "start_time": "2024-07-28T22:56:20.747Z"
   },
   {
    "duration": 11,
    "start_time": "2024-07-28T22:56:20.775Z"
   },
   {
    "duration": 329,
    "start_time": "2024-07-28T22:56:20.792Z"
   },
   {
    "duration": 4,
    "start_time": "2024-07-28T22:56:21.124Z"
   },
   {
    "duration": 7,
    "start_time": "2024-07-28T22:56:21.131Z"
   },
   {
    "duration": 8,
    "start_time": "2024-07-28T22:56:21.169Z"
   },
   {
    "duration": 7,
    "start_time": "2024-07-28T22:56:21.180Z"
   },
   {
    "duration": 291,
    "start_time": "2024-07-28T22:56:21.190Z"
   },
   {
    "duration": 15,
    "start_time": "2024-07-28T22:56:21.485Z"
   },
   {
    "duration": 17,
    "start_time": "2024-07-28T22:56:21.503Z"
   },
   {
    "duration": 51,
    "start_time": "2024-07-28T22:56:21.522Z"
   },
   {
    "duration": 35,
    "start_time": "2024-07-28T22:56:21.576Z"
   },
   {
    "duration": 10,
    "start_time": "2024-07-28T22:56:21.613Z"
   },
   {
    "duration": 43,
    "start_time": "2024-07-28T22:56:21.627Z"
   },
   {
    "duration": 7,
    "start_time": "2024-07-28T22:56:21.672Z"
   },
   {
    "duration": 13,
    "start_time": "2024-07-28T22:56:21.682Z"
   },
   {
    "duration": 7,
    "start_time": "2024-07-28T22:56:21.698Z"
   },
   {
    "duration": 363,
    "start_time": "2024-07-28T22:56:21.708Z"
   },
   {
    "duration": 746,
    "start_time": "2024-07-28T22:56:22.074Z"
   },
   {
    "duration": 1332,
    "start_time": "2024-07-28T22:57:15.182Z"
   },
   {
    "duration": 670,
    "start_time": "2024-07-28T22:57:16.518Z"
   },
   {
    "duration": 88,
    "start_time": "2024-07-28T22:57:17.191Z"
   },
   {
    "duration": 248,
    "start_time": "2024-07-28T22:57:17.282Z"
   },
   {
    "duration": 16,
    "start_time": "2024-07-28T22:57:17.535Z"
   },
   {
    "duration": 12,
    "start_time": "2024-07-28T22:57:17.568Z"
   },
   {
    "duration": 10,
    "start_time": "2024-07-28T22:57:17.584Z"
   },
   {
    "duration": 323,
    "start_time": "2024-07-28T22:57:17.598Z"
   },
   {
    "duration": 337,
    "start_time": "2024-07-28T22:57:17.924Z"
   },
   {
    "duration": 148,
    "start_time": "2024-07-28T22:57:18.264Z"
   },
   {
    "duration": 5,
    "start_time": "2024-07-28T22:57:18.415Z"
   },
   {
    "duration": 302,
    "start_time": "2024-07-28T22:57:18.423Z"
   },
   {
    "duration": 146,
    "start_time": "2024-07-28T22:57:18.727Z"
   },
   {
    "duration": 6,
    "start_time": "2024-07-28T22:57:18.880Z"
   },
   {
    "duration": 348,
    "start_time": "2024-07-28T22:57:18.889Z"
   },
   {
    "duration": 184,
    "start_time": "2024-07-28T22:57:19.240Z"
   },
   {
    "duration": 12,
    "start_time": "2024-07-28T22:57:19.428Z"
   },
   {
    "duration": 204,
    "start_time": "2024-07-28T22:57:19.443Z"
   },
   {
    "duration": 288,
    "start_time": "2024-07-28T22:57:19.650Z"
   },
   {
    "duration": 108,
    "start_time": "2024-07-28T22:57:19.942Z"
   },
   {
    "duration": 26,
    "start_time": "2024-07-28T22:57:20.053Z"
   },
   {
    "duration": 61,
    "start_time": "2024-07-28T22:57:20.082Z"
   },
   {
    "duration": 28,
    "start_time": "2024-07-28T22:57:20.146Z"
   },
   {
    "duration": 9,
    "start_time": "2024-07-28T22:57:20.177Z"
   },
   {
    "duration": 320,
    "start_time": "2024-07-28T22:57:20.189Z"
   },
   {
    "duration": 3,
    "start_time": "2024-07-28T22:57:20.512Z"
   },
   {
    "duration": 7,
    "start_time": "2024-07-28T22:57:20.518Z"
   },
   {
    "duration": 8,
    "start_time": "2024-07-28T22:57:20.527Z"
   },
   {
    "duration": 37,
    "start_time": "2024-07-28T22:57:20.538Z"
   },
   {
    "duration": 291,
    "start_time": "2024-07-28T22:57:20.577Z"
   },
   {
    "duration": 18,
    "start_time": "2024-07-28T22:57:20.871Z"
   },
   {
    "duration": 17,
    "start_time": "2024-07-28T22:57:20.892Z"
   },
   {
    "duration": 56,
    "start_time": "2024-07-28T22:57:20.912Z"
   },
   {
    "duration": 36,
    "start_time": "2024-07-28T22:57:20.970Z"
   },
   {
    "duration": 10,
    "start_time": "2024-07-28T22:57:21.009Z"
   },
   {
    "duration": 12,
    "start_time": "2024-07-28T22:57:21.022Z"
   },
   {
    "duration": 7,
    "start_time": "2024-07-28T22:57:21.068Z"
   },
   {
    "duration": 12,
    "start_time": "2024-07-28T22:57:21.082Z"
   },
   {
    "duration": 8,
    "start_time": "2024-07-28T22:57:21.096Z"
   },
   {
    "duration": 358,
    "start_time": "2024-07-28T22:57:21.108Z"
   },
   {
    "duration": 733,
    "start_time": "2024-07-28T22:57:21.473Z"
   },
   {
    "duration": 10,
    "start_time": "2024-07-28T23:10:05.202Z"
   },
   {
    "duration": 8,
    "start_time": "2024-07-28T23:10:06.700Z"
   },
   {
    "duration": 373,
    "start_time": "2024-07-28T23:13:46.255Z"
   },
   {
    "duration": 1197,
    "start_time": "2024-07-29T03:46:59.649Z"
   },
   {
    "duration": 11,
    "start_time": "2024-07-29T03:47:38.035Z"
   },
   {
    "duration": 20,
    "start_time": "2024-07-29T03:47:45.168Z"
   },
   {
    "duration": 20,
    "start_time": "2024-07-29T06:01:05.501Z"
   },
   {
    "duration": 1256,
    "start_time": "2024-07-29T06:01:12.870Z"
   },
   {
    "duration": 626,
    "start_time": "2024-07-29T06:01:14.130Z"
   },
   {
    "duration": 82,
    "start_time": "2024-07-29T06:01:14.759Z"
   },
   {
    "duration": 264,
    "start_time": "2024-07-29T06:01:14.845Z"
   },
   {
    "duration": 15,
    "start_time": "2024-07-29T06:01:15.112Z"
   },
   {
    "duration": 11,
    "start_time": "2024-07-29T06:01:15.130Z"
   },
   {
    "duration": 12,
    "start_time": "2024-07-29T06:01:15.169Z"
   },
   {
    "duration": 309,
    "start_time": "2024-07-29T06:01:15.185Z"
   },
   {
    "duration": 335,
    "start_time": "2024-07-29T06:01:15.497Z"
   },
   {
    "duration": 164,
    "start_time": "2024-07-29T06:01:15.840Z"
   },
   {
    "duration": 5,
    "start_time": "2024-07-29T06:01:16.007Z"
   },
   {
    "duration": 301,
    "start_time": "2024-07-29T06:01:16.016Z"
   },
   {
    "duration": 148,
    "start_time": "2024-07-29T06:01:16.320Z"
   },
   {
    "duration": 5,
    "start_time": "2024-07-29T06:01:16.471Z"
   },
   {
    "duration": 354,
    "start_time": "2024-07-29T06:01:16.479Z"
   },
   {
    "duration": 189,
    "start_time": "2024-07-29T06:01:16.836Z"
   },
   {
    "duration": 11,
    "start_time": "2024-07-29T06:01:17.028Z"
   },
   {
    "duration": 200,
    "start_time": "2024-07-29T06:01:17.042Z"
   },
   {
    "duration": 306,
    "start_time": "2024-07-29T06:01:17.246Z"
   },
   {
    "duration": 121,
    "start_time": "2024-07-29T06:01:17.555Z"
   },
   {
    "duration": 19,
    "start_time": "2024-07-29T06:01:17.679Z"
   },
   {
    "duration": 79,
    "start_time": "2024-07-29T06:01:17.701Z"
   },
   {
    "duration": 8,
    "start_time": "2024-07-29T06:01:17.783Z"
   },
   {
    "duration": 10,
    "start_time": "2024-07-29T06:01:17.794Z"
   },
   {
    "duration": 364,
    "start_time": "2024-07-29T06:01:17.807Z"
   },
   {
    "duration": 5,
    "start_time": "2024-07-29T06:01:18.177Z"
   },
   {
    "duration": 7,
    "start_time": "2024-07-29T06:01:18.185Z"
   },
   {
    "duration": 8,
    "start_time": "2024-07-29T06:01:18.199Z"
   },
   {
    "duration": 7,
    "start_time": "2024-07-29T06:01:18.210Z"
   },
   {
    "duration": 321,
    "start_time": "2024-07-29T06:01:18.221Z"
   },
   {
    "duration": 24,
    "start_time": "2024-07-29T06:01:18.545Z"
   },
   {
    "duration": 18,
    "start_time": "2024-07-29T06:01:18.572Z"
   },
   {
    "duration": 24,
    "start_time": "2024-07-29T06:01:18.593Z"
   },
   {
    "duration": 69,
    "start_time": "2024-07-29T06:01:18.620Z"
   },
   {
    "duration": 20,
    "start_time": "2024-07-29T06:01:18.691Z"
   },
   {
    "duration": 11,
    "start_time": "2024-07-29T06:01:18.714Z"
   },
   {
    "duration": 49,
    "start_time": "2024-07-29T06:01:18.728Z"
   },
   {
    "duration": 8,
    "start_time": "2024-07-29T06:01:18.780Z"
   },
   {
    "duration": 11,
    "start_time": "2024-07-29T06:01:18.792Z"
   },
   {
    "duration": 7,
    "start_time": "2024-07-29T06:01:18.806Z"
   },
   {
    "duration": 429,
    "start_time": "2024-07-29T06:01:18.817Z"
   },
   {
    "duration": 741,
    "start_time": "2024-07-29T06:01:19.249Z"
   },
   {
    "duration": 21,
    "start_time": "2024-07-29T06:04:20.338Z"
   },
   {
    "duration": 9,
    "start_time": "2024-07-29T06:07:06.725Z"
   },
   {
    "duration": 1155,
    "start_time": "2024-07-29T06:07:17.660Z"
   },
   {
    "duration": 86,
    "start_time": "2024-07-29T06:07:49.225Z"
   },
   {
    "duration": 28,
    "start_time": "2024-07-29T06:08:03.321Z"
   },
   {
    "duration": 368,
    "start_time": "2024-07-29T06:09:54.853Z"
   },
   {
    "duration": 357,
    "start_time": "2024-07-29T06:10:05.612Z"
   },
   {
    "duration": 1289,
    "start_time": "2024-07-29T06:11:04.443Z"
   },
   {
    "duration": 669,
    "start_time": "2024-07-29T06:11:05.735Z"
   },
   {
    "duration": 92,
    "start_time": "2024-07-29T06:11:06.406Z"
   },
   {
    "duration": 246,
    "start_time": "2024-07-29T06:11:06.501Z"
   },
   {
    "duration": 25,
    "start_time": "2024-07-29T06:11:06.753Z"
   },
   {
    "duration": 11,
    "start_time": "2024-07-29T06:11:06.781Z"
   },
   {
    "duration": 11,
    "start_time": "2024-07-29T06:11:06.796Z"
   },
   {
    "duration": 315,
    "start_time": "2024-07-29T06:11:06.810Z"
   },
   {
    "duration": 337,
    "start_time": "2024-07-29T06:11:07.127Z"
   },
   {
    "duration": 152,
    "start_time": "2024-07-29T06:11:07.468Z"
   },
   {
    "duration": 5,
    "start_time": "2024-07-29T06:11:07.623Z"
   },
   {
    "duration": 316,
    "start_time": "2024-07-29T06:11:07.631Z"
   },
   {
    "duration": 153,
    "start_time": "2024-07-29T06:11:07.950Z"
   },
   {
    "duration": 5,
    "start_time": "2024-07-29T06:11:08.110Z"
   },
   {
    "duration": 341,
    "start_time": "2024-07-29T06:11:08.120Z"
   },
   {
    "duration": 182,
    "start_time": "2024-07-29T06:11:08.468Z"
   },
   {
    "duration": 28,
    "start_time": "2024-07-29T06:11:08.652Z"
   },
   {
    "duration": 200,
    "start_time": "2024-07-29T06:11:08.683Z"
   },
   {
    "duration": 281,
    "start_time": "2024-07-29T06:11:08.886Z"
   },
   {
    "duration": 111,
    "start_time": "2024-07-29T06:11:09.170Z"
   },
   {
    "duration": 18,
    "start_time": "2024-07-29T06:11:09.284Z"
   },
   {
    "duration": 77,
    "start_time": "2024-07-29T06:11:09.304Z"
   },
   {
    "duration": 8,
    "start_time": "2024-07-29T06:11:09.384Z"
   },
   {
    "duration": 11,
    "start_time": "2024-07-29T06:11:09.395Z"
   },
   {
    "duration": 327,
    "start_time": "2024-07-29T06:11:09.409Z"
   },
   {
    "duration": 4,
    "start_time": "2024-07-29T06:11:09.739Z"
   },
   {
    "duration": 23,
    "start_time": "2024-07-29T06:11:09.746Z"
   },
   {
    "duration": 9,
    "start_time": "2024-07-29T06:11:09.771Z"
   },
   {
    "duration": 8,
    "start_time": "2024-07-29T06:11:09.783Z"
   },
   {
    "duration": 299,
    "start_time": "2024-07-29T06:11:09.794Z"
   },
   {
    "duration": 14,
    "start_time": "2024-07-29T06:11:10.096Z"
   },
   {
    "duration": 17,
    "start_time": "2024-07-29T06:11:10.113Z"
   },
   {
    "duration": 51,
    "start_time": "2024-07-29T06:11:10.133Z"
   },
   {
    "duration": 37,
    "start_time": "2024-07-29T06:11:10.187Z"
   },
   {
    "duration": 48,
    "start_time": "2024-07-29T06:11:10.226Z"
   },
   {
    "duration": 12,
    "start_time": "2024-07-29T06:11:10.277Z"
   },
   {
    "duration": 28,
    "start_time": "2024-07-29T06:11:10.292Z"
   },
   {
    "duration": 52,
    "start_time": "2024-07-29T06:11:10.323Z"
   },
   {
    "duration": 352,
    "start_time": "2024-07-29T06:11:10.378Z"
   },
   {
    "duration": 10,
    "start_time": "2024-07-29T06:11:10.734Z"
   },
   {
    "duration": 7,
    "start_time": "2024-07-29T06:11:10.768Z"
   },
   {
    "duration": 13,
    "start_time": "2024-07-29T06:11:10.780Z"
   },
   {
    "duration": 8,
    "start_time": "2024-07-29T06:11:10.795Z"
   },
   {
    "duration": 393,
    "start_time": "2024-07-29T06:11:10.806Z"
   },
   {
    "duration": 741,
    "start_time": "2024-07-29T06:11:11.202Z"
   },
   {
    "duration": 30,
    "start_time": "2024-07-29T06:12:45.437Z"
   },
   {
    "duration": 419,
    "start_time": "2024-07-29T06:14:39.650Z"
   },
   {
    "duration": 33,
    "start_time": "2024-07-29T06:15:00.197Z"
   },
   {
    "duration": 27,
    "start_time": "2024-07-29T06:15:03.544Z"
   },
   {
    "duration": 24,
    "start_time": "2024-07-29T06:15:21.221Z"
   },
   {
    "duration": 1252,
    "start_time": "2024-07-29T06:41:41.939Z"
   },
   {
    "duration": 4,
    "start_time": "2024-07-29T06:42:51.480Z"
   },
   {
    "duration": 1377,
    "start_time": "2024-07-29T06:43:00.258Z"
   },
   {
    "duration": 292,
    "start_time": "2024-07-29T06:49:52.668Z"
   },
   {
    "duration": 1161,
    "start_time": "2024-07-29T06:50:02.518Z"
   },
   {
    "duration": 148,
    "start_time": "2024-07-29T06:51:29.187Z"
   },
   {
    "duration": 1086,
    "start_time": "2024-07-29T06:54:16.933Z"
   },
   {
    "duration": 92,
    "start_time": "2024-07-29T06:54:36.512Z"
   },
   {
    "duration": 1197,
    "start_time": "2024-07-29T06:55:01.415Z"
   },
   {
    "duration": 638,
    "start_time": "2024-07-29T06:55:02.615Z"
   },
   {
    "duration": 83,
    "start_time": "2024-07-29T06:55:03.256Z"
   },
   {
    "duration": 253,
    "start_time": "2024-07-29T06:55:03.341Z"
   },
   {
    "duration": 16,
    "start_time": "2024-07-29T06:55:03.599Z"
   },
   {
    "duration": 13,
    "start_time": "2024-07-29T06:55:03.618Z"
   },
   {
    "duration": 43,
    "start_time": "2024-07-29T06:55:03.634Z"
   },
   {
    "duration": 295,
    "start_time": "2024-07-29T06:55:03.681Z"
   },
   {
    "duration": 340,
    "start_time": "2024-07-29T06:55:03.980Z"
   },
   {
    "duration": 140,
    "start_time": "2024-07-29T06:55:04.324Z"
   },
   {
    "duration": 5,
    "start_time": "2024-07-29T06:55:04.469Z"
   },
   {
    "duration": 299,
    "start_time": "2024-07-29T06:55:04.477Z"
   },
   {
    "duration": 143,
    "start_time": "2024-07-29T06:55:04.779Z"
   },
   {
    "duration": 4,
    "start_time": "2024-07-29T06:55:04.929Z"
   },
   {
    "duration": 355,
    "start_time": "2024-07-29T06:55:04.938Z"
   },
   {
    "duration": 189,
    "start_time": "2024-07-29T06:55:05.297Z"
   },
   {
    "duration": 13,
    "start_time": "2024-07-29T06:55:05.489Z"
   },
   {
    "duration": 196,
    "start_time": "2024-07-29T06:55:05.505Z"
   },
   {
    "duration": 287,
    "start_time": "2024-07-29T06:55:05.704Z"
   },
   {
    "duration": 116,
    "start_time": "2024-07-29T06:55:05.994Z"
   },
   {
    "duration": 17,
    "start_time": "2024-07-29T06:55:06.113Z"
   },
   {
    "duration": 85,
    "start_time": "2024-07-29T06:55:06.132Z"
   },
   {
    "duration": 8,
    "start_time": "2024-07-29T06:55:06.220Z"
   },
   {
    "duration": 10,
    "start_time": "2024-07-29T06:55:06.231Z"
   },
   {
    "duration": 330,
    "start_time": "2024-07-29T06:55:06.244Z"
   },
   {
    "duration": 7,
    "start_time": "2024-07-29T06:55:06.577Z"
   },
   {
    "duration": 9,
    "start_time": "2024-07-29T06:55:06.590Z"
   },
   {
    "duration": 8,
    "start_time": "2024-07-29T06:55:06.604Z"
   },
   {
    "duration": 8,
    "start_time": "2024-07-29T06:55:06.615Z"
   },
   {
    "duration": 318,
    "start_time": "2024-07-29T06:55:06.626Z"
   },
   {
    "duration": 28,
    "start_time": "2024-07-29T06:55:06.948Z"
   },
   {
    "duration": 17,
    "start_time": "2024-07-29T06:55:06.980Z"
   },
   {
    "duration": 24,
    "start_time": "2024-07-29T06:55:06.999Z"
   },
   {
    "duration": 69,
    "start_time": "2024-07-29T06:55:07.027Z"
   },
   {
    "duration": 21,
    "start_time": "2024-07-29T06:55:07.099Z"
   },
   {
    "duration": 11,
    "start_time": "2024-07-29T06:55:07.124Z"
   },
   {
    "duration": 33,
    "start_time": "2024-07-29T06:55:07.169Z"
   },
   {
    "duration": 21,
    "start_time": "2024-07-29T06:55:07.204Z"
   },
   {
    "duration": 60,
    "start_time": "2024-07-29T06:55:07.228Z"
   },
   {
    "duration": 167,
    "start_time": "2024-07-29T06:55:07.291Z"
   },
   {
    "duration": 1520,
    "start_time": "2024-07-29T06:55:07.470Z"
   },
   {
    "duration": 0,
    "start_time": "2024-07-29T06:55:08.994Z"
   },
   {
    "duration": 0,
    "start_time": "2024-07-29T06:55:08.997Z"
   },
   {
    "duration": 0,
    "start_time": "2024-07-29T06:55:08.999Z"
   },
   {
    "duration": 0,
    "start_time": "2024-07-29T06:55:09.001Z"
   },
   {
    "duration": 0,
    "start_time": "2024-07-29T06:55:09.004Z"
   },
   {
    "duration": 0,
    "start_time": "2024-07-29T06:55:09.006Z"
   },
   {
    "duration": 51,
    "start_time": "2024-07-29T06:55:43.012Z"
   },
   {
    "duration": 8,
    "start_time": "2024-07-29T06:57:39.635Z"
   },
   {
    "duration": 10,
    "start_time": "2024-07-29T07:02:04.184Z"
   },
   {
    "duration": 7,
    "start_time": "2024-07-29T07:02:05.157Z"
   },
   {
    "duration": 10,
    "start_time": "2024-07-29T07:02:36.000Z"
   },
   {
    "duration": 8,
    "start_time": "2024-07-29T07:02:36.374Z"
   },
   {
    "duration": 371,
    "start_time": "2024-07-29T07:02:36.941Z"
   },
   {
    "duration": 27,
    "start_time": "2024-07-29T07:04:36.325Z"
   },
   {
    "duration": 467,
    "start_time": "2024-07-29T07:06:20.605Z"
   },
   {
    "duration": 48,
    "start_time": "2024-07-29T07:06:48.495Z"
   },
   {
    "duration": 1267,
    "start_time": "2024-07-29T07:07:40.337Z"
   },
   {
    "duration": 635,
    "start_time": "2024-07-29T07:07:41.607Z"
   },
   {
    "duration": 83,
    "start_time": "2024-07-29T07:07:42.245Z"
   },
   {
    "duration": 242,
    "start_time": "2024-07-29T07:07:42.332Z"
   },
   {
    "duration": 17,
    "start_time": "2024-07-29T07:07:42.576Z"
   },
   {
    "duration": 12,
    "start_time": "2024-07-29T07:07:42.596Z"
   },
   {
    "duration": 10,
    "start_time": "2024-07-29T07:07:42.611Z"
   },
   {
    "duration": 321,
    "start_time": "2024-07-29T07:07:42.625Z"
   },
   {
    "duration": 343,
    "start_time": "2024-07-29T07:07:42.949Z"
   },
   {
    "duration": 143,
    "start_time": "2024-07-29T07:07:43.298Z"
   },
   {
    "duration": 5,
    "start_time": "2024-07-29T07:07:43.443Z"
   },
   {
    "duration": 286,
    "start_time": "2024-07-29T07:07:43.451Z"
   },
   {
    "duration": 137,
    "start_time": "2024-07-29T07:07:43.740Z"
   },
   {
    "duration": 5,
    "start_time": "2024-07-29T07:07:43.881Z"
   },
   {
    "duration": 345,
    "start_time": "2024-07-29T07:07:43.889Z"
   },
   {
    "duration": 188,
    "start_time": "2024-07-29T07:07:44.237Z"
   },
   {
    "duration": 12,
    "start_time": "2024-07-29T07:07:44.428Z"
   },
   {
    "duration": 198,
    "start_time": "2024-07-29T07:07:44.443Z"
   },
   {
    "duration": 290,
    "start_time": "2024-07-29T07:07:44.644Z"
   },
   {
    "duration": 133,
    "start_time": "2024-07-29T07:07:44.939Z"
   },
   {
    "duration": 22,
    "start_time": "2024-07-29T07:07:45.075Z"
   },
   {
    "duration": 82,
    "start_time": "2024-07-29T07:07:45.100Z"
   },
   {
    "duration": 8,
    "start_time": "2024-07-29T07:07:45.185Z"
   },
   {
    "duration": 10,
    "start_time": "2024-07-29T07:07:45.196Z"
   },
   {
    "duration": 341,
    "start_time": "2024-07-29T07:07:45.209Z"
   },
   {
    "duration": 5,
    "start_time": "2024-07-29T07:07:45.553Z"
   },
   {
    "duration": 10,
    "start_time": "2024-07-29T07:07:45.569Z"
   },
   {
    "duration": 8,
    "start_time": "2024-07-29T07:07:45.588Z"
   },
   {
    "duration": 8,
    "start_time": "2024-07-29T07:07:45.598Z"
   },
   {
    "duration": 410,
    "start_time": "2024-07-29T07:07:45.610Z"
   },
   {
    "duration": 19,
    "start_time": "2024-07-29T07:07:46.023Z"
   },
   {
    "duration": 31,
    "start_time": "2024-07-29T07:07:46.045Z"
   },
   {
    "duration": 29,
    "start_time": "2024-07-29T07:07:46.079Z"
   },
   {
    "duration": 72,
    "start_time": "2024-07-29T07:07:46.111Z"
   },
   {
    "duration": 22,
    "start_time": "2024-07-29T07:07:46.186Z"
   },
   {
    "duration": 57,
    "start_time": "2024-07-29T07:07:46.211Z"
   },
   {
    "duration": 23,
    "start_time": "2024-07-29T07:07:46.271Z"
   },
   {
    "duration": 27,
    "start_time": "2024-07-29T07:07:46.298Z"
   },
   {
    "duration": 182,
    "start_time": "2024-07-29T07:07:46.328Z"
   },
   {
    "duration": 73,
    "start_time": "2024-07-29T07:07:46.513Z"
   },
   {
    "duration": 10,
    "start_time": "2024-07-29T07:07:46.590Z"
   },
   {
    "duration": 11,
    "start_time": "2024-07-29T07:07:46.603Z"
   },
   {
    "duration": 8,
    "start_time": "2024-07-29T07:07:46.617Z"
   },
   {
    "duration": 13,
    "start_time": "2024-07-29T07:07:46.669Z"
   },
   {
    "duration": 8,
    "start_time": "2024-07-29T07:07:46.684Z"
   },
   {
    "duration": 392,
    "start_time": "2024-07-29T07:07:46.695Z"
   },
   {
    "duration": 39,
    "start_time": "2024-07-29T07:07:47.090Z"
   },
   {
    "duration": 789,
    "start_time": "2024-07-29T07:07:47.131Z"
   },
   {
    "duration": 41,
    "start_time": "2024-07-29T07:08:00.283Z"
   },
   {
    "duration": 64,
    "start_time": "2024-07-29T07:10:40.484Z"
   },
   {
    "duration": 55,
    "start_time": "2024-07-29T07:11:10.512Z"
   },
   {
    "duration": 51,
    "start_time": "2024-07-29T07:11:16.804Z"
   },
   {
    "duration": 15,
    "start_time": "2024-07-29T07:12:51.679Z"
   },
   {
    "duration": 9,
    "start_time": "2024-07-29T07:15:21.837Z"
   },
   {
    "duration": 5065,
    "start_time": "2024-07-30T02:32:40.455Z"
   },
   {
    "duration": 719,
    "start_time": "2024-07-30T02:32:45.523Z"
   },
   {
    "duration": 86,
    "start_time": "2024-07-30T02:32:46.246Z"
   },
   {
    "duration": 238,
    "start_time": "2024-07-30T02:32:46.335Z"
   },
   {
    "duration": 15,
    "start_time": "2024-07-30T02:32:46.578Z"
   },
   {
    "duration": 11,
    "start_time": "2024-07-30T02:32:46.596Z"
   },
   {
    "duration": 30,
    "start_time": "2024-07-30T02:32:46.609Z"
   },
   {
    "duration": 303,
    "start_time": "2024-07-30T02:32:46.643Z"
   },
   {
    "duration": 326,
    "start_time": "2024-07-30T02:32:46.949Z"
   },
   {
    "duration": 139,
    "start_time": "2024-07-30T02:32:47.278Z"
   },
   {
    "duration": 13,
    "start_time": "2024-07-30T02:32:47.419Z"
   },
   {
    "duration": 282,
    "start_time": "2024-07-30T02:32:47.436Z"
   },
   {
    "duration": 134,
    "start_time": "2024-07-30T02:32:47.729Z"
   },
   {
    "duration": 6,
    "start_time": "2024-07-30T02:32:47.871Z"
   },
   {
    "duration": 279,
    "start_time": "2024-07-30T02:32:47.881Z"
   },
   {
    "duration": 193,
    "start_time": "2024-07-30T02:32:48.164Z"
   },
   {
    "duration": 11,
    "start_time": "2024-07-30T02:32:48.360Z"
   },
   {
    "duration": 205,
    "start_time": "2024-07-30T02:32:48.374Z"
   },
   {
    "duration": 282,
    "start_time": "2024-07-30T02:32:48.583Z"
   },
   {
    "duration": 113,
    "start_time": "2024-07-30T02:32:48.870Z"
   },
   {
    "duration": 17,
    "start_time": "2024-07-30T02:32:48.986Z"
   },
   {
    "duration": 77,
    "start_time": "2024-07-30T02:32:49.006Z"
   },
   {
    "duration": 8,
    "start_time": "2024-07-30T02:32:49.086Z"
   },
   {
    "duration": 10,
    "start_time": "2024-07-30T02:32:49.097Z"
   },
   {
    "duration": 311,
    "start_time": "2024-07-30T02:32:49.130Z"
   },
   {
    "duration": 5,
    "start_time": "2024-07-30T02:32:49.445Z"
   },
   {
    "duration": 10,
    "start_time": "2024-07-30T02:32:49.454Z"
   },
   {
    "duration": 14,
    "start_time": "2024-07-30T02:32:49.467Z"
   },
   {
    "duration": 44,
    "start_time": "2024-07-30T02:32:49.485Z"
   },
   {
    "duration": 367,
    "start_time": "2024-07-30T02:32:49.533Z"
   },
   {
    "duration": 36,
    "start_time": "2024-07-30T02:32:49.903Z"
   },
   {
    "duration": 20,
    "start_time": "2024-07-30T02:32:49.943Z"
   },
   {
    "duration": 27,
    "start_time": "2024-07-30T02:32:49.967Z"
   },
   {
    "duration": 75,
    "start_time": "2024-07-30T02:32:49.998Z"
   },
   {
    "duration": 24,
    "start_time": "2024-07-30T02:32:50.078Z"
   },
   {
    "duration": 50,
    "start_time": "2024-07-30T02:32:50.106Z"
   },
   {
    "duration": 22,
    "start_time": "2024-07-30T02:32:50.160Z"
   },
   {
    "duration": 63,
    "start_time": "2024-07-30T02:32:50.185Z"
   },
   {
    "duration": 163,
    "start_time": "2024-07-30T02:32:50.252Z"
   },
   {
    "duration": 82,
    "start_time": "2024-07-30T02:32:50.421Z"
   },
   {
    "duration": 21,
    "start_time": "2024-07-30T02:32:50.514Z"
   },
   {
    "duration": 16,
    "start_time": "2024-07-30T02:32:50.539Z"
   },
   {
    "duration": 11,
    "start_time": "2024-07-30T02:32:50.560Z"
   },
   {
    "duration": 7,
    "start_time": "2024-07-30T02:32:50.575Z"
   },
   {
    "duration": 51,
    "start_time": "2024-07-30T02:32:50.586Z"
   },
   {
    "duration": 8,
    "start_time": "2024-07-30T02:32:50.642Z"
   },
   {
    "duration": 404,
    "start_time": "2024-07-30T02:32:50.654Z"
   },
   {
    "duration": 50,
    "start_time": "2024-07-30T02:32:51.061Z"
   },
   {
    "duration": 81,
    "start_time": "2024-07-30T02:32:51.114Z"
   },
   {
    "duration": 34,
    "start_time": "2024-07-30T02:32:51.198Z"
   },
   {
    "duration": 4917,
    "start_time": "2024-08-02T04:41:43.431Z"
   },
   {
    "duration": 771,
    "start_time": "2024-08-02T04:41:48.351Z"
   },
   {
    "duration": 88,
    "start_time": "2024-08-02T04:41:49.125Z"
   },
   {
    "duration": 251,
    "start_time": "2024-08-02T04:41:49.215Z"
   },
   {
    "duration": 29,
    "start_time": "2024-08-02T04:41:49.472Z"
   },
   {
    "duration": 13,
    "start_time": "2024-08-02T04:41:49.504Z"
   },
   {
    "duration": 12,
    "start_time": "2024-08-02T04:41:49.520Z"
   },
   {
    "duration": 300,
    "start_time": "2024-08-02T04:41:49.535Z"
   },
   {
    "duration": 341,
    "start_time": "2024-08-02T04:41:49.838Z"
   },
   {
    "duration": 149,
    "start_time": "2024-08-02T04:41:50.182Z"
   },
   {
    "duration": 6,
    "start_time": "2024-08-02T04:41:50.334Z"
   },
   {
    "duration": 292,
    "start_time": "2024-08-02T04:41:50.344Z"
   },
   {
    "duration": 144,
    "start_time": "2024-08-02T04:41:50.641Z"
   },
   {
    "duration": 11,
    "start_time": "2024-08-02T04:41:50.791Z"
   },
   {
    "duration": 263,
    "start_time": "2024-08-02T04:41:50.811Z"
   },
   {
    "duration": 194,
    "start_time": "2024-08-02T04:41:51.077Z"
   },
   {
    "duration": 26,
    "start_time": "2024-08-02T04:41:51.275Z"
   },
   {
    "duration": 186,
    "start_time": "2024-08-02T04:41:51.303Z"
   },
   {
    "duration": 267,
    "start_time": "2024-08-02T04:41:51.503Z"
   },
   {
    "duration": 108,
    "start_time": "2024-08-02T04:41:51.773Z"
   },
   {
    "duration": 34,
    "start_time": "2024-08-02T04:41:51.883Z"
   },
   {
    "duration": 71,
    "start_time": "2024-08-02T04:41:51.920Z"
   },
   {
    "duration": 8,
    "start_time": "2024-08-02T04:41:51.996Z"
   },
   {
    "duration": 29,
    "start_time": "2024-08-02T04:41:52.010Z"
   },
   {
    "duration": 315,
    "start_time": "2024-08-02T04:41:52.042Z"
   },
   {
    "duration": 4,
    "start_time": "2024-08-02T04:41:52.360Z"
   },
   {
    "duration": 26,
    "start_time": "2024-08-02T04:41:52.367Z"
   },
   {
    "duration": 10,
    "start_time": "2024-08-02T04:41:52.395Z"
   },
   {
    "duration": 7,
    "start_time": "2024-08-02T04:41:52.408Z"
   },
   {
    "duration": 305,
    "start_time": "2024-08-02T04:41:52.428Z"
   },
   {
    "duration": 17,
    "start_time": "2024-08-02T04:41:52.736Z"
   },
   {
    "duration": 37,
    "start_time": "2024-08-02T04:41:52.756Z"
   },
   {
    "duration": 105,
    "start_time": "2024-08-02T04:41:52.806Z"
   },
   {
    "duration": 39,
    "start_time": "2024-08-02T04:41:52.914Z"
   },
   {
    "duration": 20,
    "start_time": "2024-08-02T04:41:52.956Z"
   },
   {
    "duration": 34,
    "start_time": "2024-08-02T04:41:52.991Z"
   },
   {
    "duration": 24,
    "start_time": "2024-08-02T04:41:53.028Z"
   },
   {
    "duration": 50,
    "start_time": "2024-08-02T04:41:53.055Z"
   },
   {
    "duration": 161,
    "start_time": "2024-08-02T04:41:53.110Z"
   },
   {
    "duration": 75,
    "start_time": "2024-08-02T04:41:53.275Z"
   },
   {
    "duration": 6,
    "start_time": "2024-08-02T04:41:53.358Z"
   },
   {
    "duration": 35,
    "start_time": "2024-08-02T04:41:53.367Z"
   },
   {
    "duration": 16,
    "start_time": "2024-08-02T04:41:53.405Z"
   },
   {
    "duration": 7,
    "start_time": "2024-08-02T04:41:53.432Z"
   },
   {
    "duration": 11,
    "start_time": "2024-08-02T04:41:53.443Z"
   },
   {
    "duration": 7,
    "start_time": "2024-08-02T04:41:53.457Z"
   },
   {
    "duration": 377,
    "start_time": "2024-08-02T04:41:53.493Z"
   },
   {
    "duration": 53,
    "start_time": "2024-08-02T04:41:53.873Z"
   },
   {
    "duration": 92,
    "start_time": "2024-08-02T04:41:53.929Z"
   },
   {
    "duration": 10,
    "start_time": "2024-08-02T04:41:54.024Z"
   },
   {
    "duration": 81,
    "start_time": "2024-08-02T04:46:20.757Z"
   },
   {
    "duration": 25,
    "start_time": "2024-08-02T04:46:21.889Z"
   },
   {
    "duration": 26,
    "start_time": "2024-08-02T04:46:24.649Z"
   },
   {
    "duration": 1052,
    "start_time": "2024-08-02T07:24:14.012Z"
   },
   {
    "duration": 1005,
    "start_time": "2024-08-02T07:24:50.235Z"
   }
  ],
  "kernelspec": {
   "display_name": "Python 3 (ipykernel)",
   "language": "python",
   "name": "python3"
  },
  "language_info": {
   "codemirror_mode": {
    "name": "ipython",
    "version": 3
   },
   "file_extension": ".py",
   "mimetype": "text/x-python",
   "name": "python",
   "nbconvert_exporter": "python",
   "pygments_lexer": "ipython3",
   "version": "3.9.19"
  },
  "toc": {
   "base_numbering": 1,
   "nav_menu": {},
   "number_sections": true,
   "sideBar": true,
   "skip_h1_title": true,
   "title_cell": "Table of Contents",
   "title_sidebar": "Contents",
   "toc_cell": false,
   "toc_position": {},
   "toc_section_display": true,
   "toc_window_display": false
  }
 },
 "nbformat": 4,
 "nbformat_minor": 2
}
